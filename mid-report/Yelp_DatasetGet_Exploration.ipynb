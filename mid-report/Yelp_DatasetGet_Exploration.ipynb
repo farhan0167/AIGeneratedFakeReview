{
  "nbformat": 4,
  "nbformat_minor": 0,
  "metadata": {
    "colab": {
      "provenance": []
    },
    "kernelspec": {
      "name": "python3",
      "display_name": "Python 3"
    },
    "language_info": {
      "name": "python"
    },
    "accelerator": "GPU",
    "gpuClass": "standard"
  },
  "cells": [
    {
      "cell_type": "markdown",
      "source": [
        "# Fake Review Generation on the Yelp Dataset: Dataset Exploration\n",
        "\n",
        "More information on the Yelp dataset: https://www.yelp.com/dataset"
      ],
      "metadata": {
        "id": "7-6W6-9csYvr"
      }
    },
    {
      "cell_type": "code",
      "source": [
        "from google.colab import drive\n",
        "drive.mount('/content/drive') "
      ],
      "metadata": {
        "colab": {
          "base_uri": "https://localhost:8080/"
        },
        "id": "l7qEHTNbEkq4",
        "outputId": "50d15d86-ede6-4717-e43b-e0dc80379064"
      },
      "execution_count": null,
      "outputs": [
        {
          "output_type": "stream",
          "name": "stdout",
          "text": [
            "Mounted at /content/drive\n"
          ]
        }
      ]
    },
    {
      "cell_type": "code",
      "source": [
        "#!tar -xvf /content/drive/MyDrive/YelpDataset/yelp_dataset.tar"
      ],
      "metadata": {
        "id": "2QY51oVjQwNk"
      },
      "execution_count": null,
      "outputs": []
    },
    {
      "cell_type": "code",
      "source": [
        "!ls /content/drive/MyDrive/YelpDataset/"
      ],
      "metadata": {
        "colab": {
          "base_uri": "https://localhost:8080/"
        },
        "id": "zAEGJB8KT-ZX",
        "outputId": "f8157567-8cb1-47e4-d65f-d8dc1f9f7f8b"
      },
      "execution_count": null,
      "outputs": [
        {
          "output_type": "stream",
          "name": "stdout",
          "text": [
            "dataframes\t\t\t     yelp_academic_dataset_review.json\n",
            "Dataset_User_Agreement.pdf\t     yelp_academic_dataset_tip.json\n",
            "models\t\t\t\t     yelp_academic_dataset_user.json\n",
            "yelp_academic_dataset_business.json  yelp_dataset.tar\n",
            "yelp_academic_dataset_checkin.json\n"
          ]
        }
      ]
    },
    {
      "cell_type": "code",
      "source": [
        "#%cp /content/yelp_academic_dataset_review.json /content/drive/MyDrive/YelpDataset"
      ],
      "metadata": {
        "id": "9PAEAYegUNcb"
      },
      "execution_count": null,
      "outputs": []
    },
    {
      "cell_type": "code",
      "source": [
        "%cp /content/drive/MyDrive/YelpDataset/yelp_academic_dataset_review.json /content/\n",
        "%cp /content/drive/MyDrive/YelpDataset/yelp_academic_dataset_business.json /content/"
      ],
      "metadata": {
        "id": "-r6YTP58eMn0"
      },
      "execution_count": null,
      "outputs": []
    },
    {
      "cell_type": "markdown",
      "source": [
        "Follow this to import data: https://towardsdatascience.com/converting-yelp-dataset-to-csv-using-pandas-2a4c8f03bd88 . Below work is adapted from the following link."
      ],
      "metadata": {
        "id": "ltM447QJNHLg"
      }
    },
    {
      "cell_type": "code",
      "source": [
        "import pandas as pd"
      ],
      "metadata": {
        "id": "6TrlYpgtNJ4s"
      },
      "execution_count": null,
      "outputs": []
    },
    {
      "cell_type": "code",
      "source": [
        "business_json_path = '/content/yelp_academic_dataset_business.json'\n",
        "df_b = pd.read_json(business_json_path, lines=True)"
      ],
      "metadata": {
        "id": "w4YrWAPLNJ1j"
      },
      "execution_count": null,
      "outputs": []
    },
    {
      "cell_type": "code",
      "source": [
        "df_b.head()"
      ],
      "metadata": {
        "colab": {
          "base_uri": "https://localhost:8080/",
          "height": 600
        },
        "id": "y4EofWcgNJyr",
        "outputId": "cf79cacf-48e8-4c29-d62a-3360daa0d1bc"
      },
      "execution_count": null,
      "outputs": [
        {
          "output_type": "execute_result",
          "data": {
            "text/plain": [
              "              business_id                      name  \\\n",
              "0  Pns2l4eNsfO8kk83dixA6A  Abby Rappoport, LAC, CMQ   \n",
              "1  mpf3x-BjTdTEA3yCZrAYPw             The UPS Store   \n",
              "2  tUFrWirKiKi_TAnsVWINQQ                    Target   \n",
              "3  MTSW4McQd7CbVtyjqoe9mw        St Honore Pastries   \n",
              "4  mWMc6_wTdE0EUBKIGXDVfA  Perkiomen Valley Brewery   \n",
              "\n",
              "                           address           city state postal_code  \\\n",
              "0           1616 Chapala St, Ste 2  Santa Barbara    CA       93101   \n",
              "1  87 Grasso Plaza Shopping Center         Affton    MO       63123   \n",
              "2             5255 E Broadway Blvd         Tucson    AZ       85711   \n",
              "3                      935 Race St   Philadelphia    PA       19107   \n",
              "4                    101 Walnut St     Green Lane    PA       18054   \n",
              "\n",
              "    latitude   longitude  stars  review_count  is_open  \\\n",
              "0  34.426679 -119.711197    5.0             7        0   \n",
              "1  38.551126  -90.335695    3.0            15        1   \n",
              "2  32.223236 -110.880452    3.5            22        0   \n",
              "3  39.955505  -75.155564    4.0            80        1   \n",
              "4  40.338183  -75.471659    4.5            13        1   \n",
              "\n",
              "                                          attributes  \\\n",
              "0                      {'ByAppointmentOnly': 'True'}   \n",
              "1             {'BusinessAcceptsCreditCards': 'True'}   \n",
              "2  {'BikeParking': 'True', 'BusinessAcceptsCredit...   \n",
              "3  {'RestaurantsDelivery': 'False', 'OutdoorSeati...   \n",
              "4  {'BusinessAcceptsCreditCards': 'True', 'Wheelc...   \n",
              "\n",
              "                                          categories  \\\n",
              "0  Doctors, Traditional Chinese Medicine, Naturop...   \n",
              "1  Shipping Centers, Local Services, Notaries, Ma...   \n",
              "2  Department Stores, Shopping, Fashion, Home & G...   \n",
              "3  Restaurants, Food, Bubble Tea, Coffee & Tea, B...   \n",
              "4                          Brewpubs, Breweries, Food   \n",
              "\n",
              "                                               hours  \n",
              "0                                               None  \n",
              "1  {'Monday': '0:0-0:0', 'Tuesday': '8:0-18:30', ...  \n",
              "2  {'Monday': '8:0-22:0', 'Tuesday': '8:0-22:0', ...  \n",
              "3  {'Monday': '7:0-20:0', 'Tuesday': '7:0-20:0', ...  \n",
              "4  {'Wednesday': '14:0-22:0', 'Thursday': '16:0-2...  "
            ],
            "text/html": [
              "\n",
              "  <div id=\"df-a2469f91-b74c-4cbc-8b3c-fdb74e5d3cce\">\n",
              "    <div class=\"colab-df-container\">\n",
              "      <div>\n",
              "<style scoped>\n",
              "    .dataframe tbody tr th:only-of-type {\n",
              "        vertical-align: middle;\n",
              "    }\n",
              "\n",
              "    .dataframe tbody tr th {\n",
              "        vertical-align: top;\n",
              "    }\n",
              "\n",
              "    .dataframe thead th {\n",
              "        text-align: right;\n",
              "    }\n",
              "</style>\n",
              "<table border=\"1\" class=\"dataframe\">\n",
              "  <thead>\n",
              "    <tr style=\"text-align: right;\">\n",
              "      <th></th>\n",
              "      <th>business_id</th>\n",
              "      <th>name</th>\n",
              "      <th>address</th>\n",
              "      <th>city</th>\n",
              "      <th>state</th>\n",
              "      <th>postal_code</th>\n",
              "      <th>latitude</th>\n",
              "      <th>longitude</th>\n",
              "      <th>stars</th>\n",
              "      <th>review_count</th>\n",
              "      <th>is_open</th>\n",
              "      <th>attributes</th>\n",
              "      <th>categories</th>\n",
              "      <th>hours</th>\n",
              "    </tr>\n",
              "  </thead>\n",
              "  <tbody>\n",
              "    <tr>\n",
              "      <th>0</th>\n",
              "      <td>Pns2l4eNsfO8kk83dixA6A</td>\n",
              "      <td>Abby Rappoport, LAC, CMQ</td>\n",
              "      <td>1616 Chapala St, Ste 2</td>\n",
              "      <td>Santa Barbara</td>\n",
              "      <td>CA</td>\n",
              "      <td>93101</td>\n",
              "      <td>34.426679</td>\n",
              "      <td>-119.711197</td>\n",
              "      <td>5.0</td>\n",
              "      <td>7</td>\n",
              "      <td>0</td>\n",
              "      <td>{'ByAppointmentOnly': 'True'}</td>\n",
              "      <td>Doctors, Traditional Chinese Medicine, Naturop...</td>\n",
              "      <td>None</td>\n",
              "    </tr>\n",
              "    <tr>\n",
              "      <th>1</th>\n",
              "      <td>mpf3x-BjTdTEA3yCZrAYPw</td>\n",
              "      <td>The UPS Store</td>\n",
              "      <td>87 Grasso Plaza Shopping Center</td>\n",
              "      <td>Affton</td>\n",
              "      <td>MO</td>\n",
              "      <td>63123</td>\n",
              "      <td>38.551126</td>\n",
              "      <td>-90.335695</td>\n",
              "      <td>3.0</td>\n",
              "      <td>15</td>\n",
              "      <td>1</td>\n",
              "      <td>{'BusinessAcceptsCreditCards': 'True'}</td>\n",
              "      <td>Shipping Centers, Local Services, Notaries, Ma...</td>\n",
              "      <td>{'Monday': '0:0-0:0', 'Tuesday': '8:0-18:30', ...</td>\n",
              "    </tr>\n",
              "    <tr>\n",
              "      <th>2</th>\n",
              "      <td>tUFrWirKiKi_TAnsVWINQQ</td>\n",
              "      <td>Target</td>\n",
              "      <td>5255 E Broadway Blvd</td>\n",
              "      <td>Tucson</td>\n",
              "      <td>AZ</td>\n",
              "      <td>85711</td>\n",
              "      <td>32.223236</td>\n",
              "      <td>-110.880452</td>\n",
              "      <td>3.5</td>\n",
              "      <td>22</td>\n",
              "      <td>0</td>\n",
              "      <td>{'BikeParking': 'True', 'BusinessAcceptsCredit...</td>\n",
              "      <td>Department Stores, Shopping, Fashion, Home &amp; G...</td>\n",
              "      <td>{'Monday': '8:0-22:0', 'Tuesday': '8:0-22:0', ...</td>\n",
              "    </tr>\n",
              "    <tr>\n",
              "      <th>3</th>\n",
              "      <td>MTSW4McQd7CbVtyjqoe9mw</td>\n",
              "      <td>St Honore Pastries</td>\n",
              "      <td>935 Race St</td>\n",
              "      <td>Philadelphia</td>\n",
              "      <td>PA</td>\n",
              "      <td>19107</td>\n",
              "      <td>39.955505</td>\n",
              "      <td>-75.155564</td>\n",
              "      <td>4.0</td>\n",
              "      <td>80</td>\n",
              "      <td>1</td>\n",
              "      <td>{'RestaurantsDelivery': 'False', 'OutdoorSeati...</td>\n",
              "      <td>Restaurants, Food, Bubble Tea, Coffee &amp; Tea, B...</td>\n",
              "      <td>{'Monday': '7:0-20:0', 'Tuesday': '7:0-20:0', ...</td>\n",
              "    </tr>\n",
              "    <tr>\n",
              "      <th>4</th>\n",
              "      <td>mWMc6_wTdE0EUBKIGXDVfA</td>\n",
              "      <td>Perkiomen Valley Brewery</td>\n",
              "      <td>101 Walnut St</td>\n",
              "      <td>Green Lane</td>\n",
              "      <td>PA</td>\n",
              "      <td>18054</td>\n",
              "      <td>40.338183</td>\n",
              "      <td>-75.471659</td>\n",
              "      <td>4.5</td>\n",
              "      <td>13</td>\n",
              "      <td>1</td>\n",
              "      <td>{'BusinessAcceptsCreditCards': 'True', 'Wheelc...</td>\n",
              "      <td>Brewpubs, Breweries, Food</td>\n",
              "      <td>{'Wednesday': '14:0-22:0', 'Thursday': '16:0-2...</td>\n",
              "    </tr>\n",
              "  </tbody>\n",
              "</table>\n",
              "</div>\n",
              "      <button class=\"colab-df-convert\" onclick=\"convertToInteractive('df-a2469f91-b74c-4cbc-8b3c-fdb74e5d3cce')\"\n",
              "              title=\"Convert this dataframe to an interactive table.\"\n",
              "              style=\"display:none;\">\n",
              "        \n",
              "  <svg xmlns=\"http://www.w3.org/2000/svg\" height=\"24px\"viewBox=\"0 0 24 24\"\n",
              "       width=\"24px\">\n",
              "    <path d=\"M0 0h24v24H0V0z\" fill=\"none\"/>\n",
              "    <path d=\"M18.56 5.44l.94 2.06.94-2.06 2.06-.94-2.06-.94-.94-2.06-.94 2.06-2.06.94zm-11 1L8.5 8.5l.94-2.06 2.06-.94-2.06-.94L8.5 2.5l-.94 2.06-2.06.94zm10 10l.94 2.06.94-2.06 2.06-.94-2.06-.94-.94-2.06-.94 2.06-2.06.94z\"/><path d=\"M17.41 7.96l-1.37-1.37c-.4-.4-.92-.59-1.43-.59-.52 0-1.04.2-1.43.59L10.3 9.45l-7.72 7.72c-.78.78-.78 2.05 0 2.83L4 21.41c.39.39.9.59 1.41.59.51 0 1.02-.2 1.41-.59l7.78-7.78 2.81-2.81c.8-.78.8-2.07 0-2.86zM5.41 20L4 18.59l7.72-7.72 1.47 1.35L5.41 20z\"/>\n",
              "  </svg>\n",
              "      </button>\n",
              "      \n",
              "  <style>\n",
              "    .colab-df-container {\n",
              "      display:flex;\n",
              "      flex-wrap:wrap;\n",
              "      gap: 12px;\n",
              "    }\n",
              "\n",
              "    .colab-df-convert {\n",
              "      background-color: #E8F0FE;\n",
              "      border: none;\n",
              "      border-radius: 50%;\n",
              "      cursor: pointer;\n",
              "      display: none;\n",
              "      fill: #1967D2;\n",
              "      height: 32px;\n",
              "      padding: 0 0 0 0;\n",
              "      width: 32px;\n",
              "    }\n",
              "\n",
              "    .colab-df-convert:hover {\n",
              "      background-color: #E2EBFA;\n",
              "      box-shadow: 0px 1px 2px rgba(60, 64, 67, 0.3), 0px 1px 3px 1px rgba(60, 64, 67, 0.15);\n",
              "      fill: #174EA6;\n",
              "    }\n",
              "\n",
              "    [theme=dark] .colab-df-convert {\n",
              "      background-color: #3B4455;\n",
              "      fill: #D2E3FC;\n",
              "    }\n",
              "\n",
              "    [theme=dark] .colab-df-convert:hover {\n",
              "      background-color: #434B5C;\n",
              "      box-shadow: 0px 1px 3px 1px rgba(0, 0, 0, 0.15);\n",
              "      filter: drop-shadow(0px 1px 2px rgba(0, 0, 0, 0.3));\n",
              "      fill: #FFFFFF;\n",
              "    }\n",
              "  </style>\n",
              "\n",
              "      <script>\n",
              "        const buttonEl =\n",
              "          document.querySelector('#df-a2469f91-b74c-4cbc-8b3c-fdb74e5d3cce button.colab-df-convert');\n",
              "        buttonEl.style.display =\n",
              "          google.colab.kernel.accessAllowed ? 'block' : 'none';\n",
              "\n",
              "        async function convertToInteractive(key) {\n",
              "          const element = document.querySelector('#df-a2469f91-b74c-4cbc-8b3c-fdb74e5d3cce');\n",
              "          const dataTable =\n",
              "            await google.colab.kernel.invokeFunction('convertToInteractive',\n",
              "                                                     [key], {});\n",
              "          if (!dataTable) return;\n",
              "\n",
              "          const docLinkHtml = 'Like what you see? Visit the ' +\n",
              "            '<a target=\"_blank\" href=https://colab.research.google.com/notebooks/data_table.ipynb>data table notebook</a>'\n",
              "            + ' to learn more about interactive tables.';\n",
              "          element.innerHTML = '';\n",
              "          dataTable['output_type'] = 'display_data';\n",
              "          await google.colab.output.renderOutput(dataTable, element);\n",
              "          const docLink = document.createElement('div');\n",
              "          docLink.innerHTML = docLinkHtml;\n",
              "          element.appendChild(docLink);\n",
              "        }\n",
              "      </script>\n",
              "    </div>\n",
              "  </div>\n",
              "  "
            ]
          },
          "metadata": {},
          "execution_count": 6
        }
      ]
    },
    {
      "cell_type": "code",
      "source": [
        "\"\"\"business_RV = df_b[df_b['categories'].str.contains(\n",
        "              'RV Repair|RV Dealers|RV Rental|RV Parks|Campgrounds',\n",
        "              case=False, na=False)]\n",
        "business_RV.head()\"\"\""
      ],
      "metadata": {
        "colab": {
          "base_uri": "https://localhost:8080/",
          "height": 54
        },
        "id": "rWUbMwvOS_ux",
        "outputId": "b00ef1e8-4909-4b1f-ae7e-852a08a5dd8c"
      },
      "execution_count": null,
      "outputs": [
        {
          "output_type": "execute_result",
          "data": {
            "text/plain": [
              "\"business_RV = df_b[df_b['categories'].str.contains(\\n              'RV Repair|RV Dealers|RV Rental|RV Parks|Campgrounds',\\n              case=False, na=False)]\\nbusiness_RV.head()\""
            ],
            "application/vnd.google.colaboratory.intrinsic+json": {
              "type": "string"
            }
          },
          "metadata": {},
          "execution_count": 7
        }
      ]
    },
    {
      "cell_type": "code",
      "source": [
        "# 1 = open, 0 = closed\n",
        "df_b = df_b[df_b['is_open']==1]\n",
        "drop_columns = ['hours','is_open','review_count']\n",
        "df_b = df_b.drop(drop_columns, axis=1)"
      ],
      "metadata": {
        "id": "X4A5Z77ON-ap"
      },
      "execution_count": null,
      "outputs": []
    },
    {
      "cell_type": "code",
      "source": [
        "# Make sure the Pandas version is above 0.25\n",
        "# If not, upgrade Pandas version\n",
        "# !pip3 install --upgrade pandas\n",
        "pd.__version__"
      ],
      "metadata": {
        "colab": {
          "base_uri": "https://localhost:8080/",
          "height": 36
        },
        "id": "COyrqa9vN-Xy",
        "outputId": "b863c802-f6f3-4f97-c9d7-0a4805eb3323"
      },
      "execution_count": null,
      "outputs": [
        {
          "output_type": "execute_result",
          "data": {
            "text/plain": [
              "'1.3.5'"
            ],
            "application/vnd.google.colaboratory.intrinsic+json": {
              "type": "string"
            }
          },
          "metadata": {},
          "execution_count": 8
        }
      ]
    },
    {
      "cell_type": "code",
      "source": [
        "df_explode = df_b.assign(categories = df_b.categories\n",
        "                         .str.split(', ')).explode('categories')"
      ],
      "metadata": {
        "id": "8-ko_fr1N-Ua"
      },
      "execution_count": null,
      "outputs": []
    },
    {
      "cell_type": "code",
      "source": [
        "print(\"Top 10 Categories\")\n",
        "print(df_explode.categories.value_counts()[:10])"
      ],
      "metadata": {
        "colab": {
          "base_uri": "https://localhost:8080/"
        },
        "id": "uOnkEVc6N-Qx",
        "outputId": "d1c12eeb-e898-4d47-95b9-537ccad95543"
      },
      "execution_count": null,
      "outputs": [
        {
          "output_type": "stream",
          "name": "stdout",
          "text": [
            "Top 10 Categories\n",
            "Restaurants                  34987\n",
            "Food                         20419\n",
            "Shopping                     20186\n",
            "Home Services                13322\n",
            "Beauty & Spas                12263\n",
            "Health & Medical             11046\n",
            "Local Services               10138\n",
            "Automotive                    9879\n",
            "Nightlife                     8379\n",
            "Event Planning & Services     8173\n",
            "Name: categories, dtype: int64\n"
          ]
        }
      ]
    },
    {
      "cell_type": "code",
      "source": [
        "df_explode.head(1)"
      ],
      "metadata": {
        "colab": {
          "base_uri": "https://localhost:8080/",
          "height": 125
        },
        "id": "YJPpCki6Stc3",
        "outputId": "6ed93b5a-5290-4482-8ea3-60d29939ecd7"
      },
      "execution_count": null,
      "outputs": [
        {
          "output_type": "execute_result",
          "data": {
            "text/plain": [
              "              business_id           name                          address  \\\n",
              "1  mpf3x-BjTdTEA3yCZrAYPw  The UPS Store  87 Grasso Plaza Shopping Center   \n",
              "\n",
              "     city state postal_code   latitude  longitude  stars  \\\n",
              "1  Affton    MO       63123  38.551126 -90.335695    3.0   \n",
              "\n",
              "                               attributes        categories  \n",
              "1  {'BusinessAcceptsCreditCards': 'True'}  Shipping Centers  "
            ],
            "text/html": [
              "\n",
              "  <div id=\"df-e65bc474-e2e8-454a-b74c-ef7e3c770725\">\n",
              "    <div class=\"colab-df-container\">\n",
              "      <div>\n",
              "<style scoped>\n",
              "    .dataframe tbody tr th:only-of-type {\n",
              "        vertical-align: middle;\n",
              "    }\n",
              "\n",
              "    .dataframe tbody tr th {\n",
              "        vertical-align: top;\n",
              "    }\n",
              "\n",
              "    .dataframe thead th {\n",
              "        text-align: right;\n",
              "    }\n",
              "</style>\n",
              "<table border=\"1\" class=\"dataframe\">\n",
              "  <thead>\n",
              "    <tr style=\"text-align: right;\">\n",
              "      <th></th>\n",
              "      <th>business_id</th>\n",
              "      <th>name</th>\n",
              "      <th>address</th>\n",
              "      <th>city</th>\n",
              "      <th>state</th>\n",
              "      <th>postal_code</th>\n",
              "      <th>latitude</th>\n",
              "      <th>longitude</th>\n",
              "      <th>stars</th>\n",
              "      <th>attributes</th>\n",
              "      <th>categories</th>\n",
              "    </tr>\n",
              "  </thead>\n",
              "  <tbody>\n",
              "    <tr>\n",
              "      <th>1</th>\n",
              "      <td>mpf3x-BjTdTEA3yCZrAYPw</td>\n",
              "      <td>The UPS Store</td>\n",
              "      <td>87 Grasso Plaza Shopping Center</td>\n",
              "      <td>Affton</td>\n",
              "      <td>MO</td>\n",
              "      <td>63123</td>\n",
              "      <td>38.551126</td>\n",
              "      <td>-90.335695</td>\n",
              "      <td>3.0</td>\n",
              "      <td>{'BusinessAcceptsCreditCards': 'True'}</td>\n",
              "      <td>Shipping Centers</td>\n",
              "    </tr>\n",
              "  </tbody>\n",
              "</table>\n",
              "</div>\n",
              "      <button class=\"colab-df-convert\" onclick=\"convertToInteractive('df-e65bc474-e2e8-454a-b74c-ef7e3c770725')\"\n",
              "              title=\"Convert this dataframe to an interactive table.\"\n",
              "              style=\"display:none;\">\n",
              "        \n",
              "  <svg xmlns=\"http://www.w3.org/2000/svg\" height=\"24px\"viewBox=\"0 0 24 24\"\n",
              "       width=\"24px\">\n",
              "    <path d=\"M0 0h24v24H0V0z\" fill=\"none\"/>\n",
              "    <path d=\"M18.56 5.44l.94 2.06.94-2.06 2.06-.94-2.06-.94-.94-2.06-.94 2.06-2.06.94zm-11 1L8.5 8.5l.94-2.06 2.06-.94-2.06-.94L8.5 2.5l-.94 2.06-2.06.94zm10 10l.94 2.06.94-2.06 2.06-.94-2.06-.94-.94-2.06-.94 2.06-2.06.94z\"/><path d=\"M17.41 7.96l-1.37-1.37c-.4-.4-.92-.59-1.43-.59-.52 0-1.04.2-1.43.59L10.3 9.45l-7.72 7.72c-.78.78-.78 2.05 0 2.83L4 21.41c.39.39.9.59 1.41.59.51 0 1.02-.2 1.41-.59l7.78-7.78 2.81-2.81c.8-.78.8-2.07 0-2.86zM5.41 20L4 18.59l7.72-7.72 1.47 1.35L5.41 20z\"/>\n",
              "  </svg>\n",
              "      </button>\n",
              "      \n",
              "  <style>\n",
              "    .colab-df-container {\n",
              "      display:flex;\n",
              "      flex-wrap:wrap;\n",
              "      gap: 12px;\n",
              "    }\n",
              "\n",
              "    .colab-df-convert {\n",
              "      background-color: #E8F0FE;\n",
              "      border: none;\n",
              "      border-radius: 50%;\n",
              "      cursor: pointer;\n",
              "      display: none;\n",
              "      fill: #1967D2;\n",
              "      height: 32px;\n",
              "      padding: 0 0 0 0;\n",
              "      width: 32px;\n",
              "    }\n",
              "\n",
              "    .colab-df-convert:hover {\n",
              "      background-color: #E2EBFA;\n",
              "      box-shadow: 0px 1px 2px rgba(60, 64, 67, 0.3), 0px 1px 3px 1px rgba(60, 64, 67, 0.15);\n",
              "      fill: #174EA6;\n",
              "    }\n",
              "\n",
              "    [theme=dark] .colab-df-convert {\n",
              "      background-color: #3B4455;\n",
              "      fill: #D2E3FC;\n",
              "    }\n",
              "\n",
              "    [theme=dark] .colab-df-convert:hover {\n",
              "      background-color: #434B5C;\n",
              "      box-shadow: 0px 1px 3px 1px rgba(0, 0, 0, 0.15);\n",
              "      filter: drop-shadow(0px 1px 2px rgba(0, 0, 0, 0.3));\n",
              "      fill: #FFFFFF;\n",
              "    }\n",
              "  </style>\n",
              "\n",
              "      <script>\n",
              "        const buttonEl =\n",
              "          document.querySelector('#df-e65bc474-e2e8-454a-b74c-ef7e3c770725 button.colab-df-convert');\n",
              "        buttonEl.style.display =\n",
              "          google.colab.kernel.accessAllowed ? 'block' : 'none';\n",
              "\n",
              "        async function convertToInteractive(key) {\n",
              "          const element = document.querySelector('#df-e65bc474-e2e8-454a-b74c-ef7e3c770725');\n",
              "          const dataTable =\n",
              "            await google.colab.kernel.invokeFunction('convertToInteractive',\n",
              "                                                     [key], {});\n",
              "          if (!dataTable) return;\n",
              "\n",
              "          const docLinkHtml = 'Like what you see? Visit the ' +\n",
              "            '<a target=\"_blank\" href=https://colab.research.google.com/notebooks/data_table.ipynb>data table notebook</a>'\n",
              "            + ' to learn more about interactive tables.';\n",
              "          element.innerHTML = '';\n",
              "          dataTable['output_type'] = 'display_data';\n",
              "          await google.colab.output.renderOutput(dataTable, element);\n",
              "          const docLink = document.createElement('div');\n",
              "          docLink.innerHTML = docLinkHtml;\n",
              "          element.appendChild(docLink);\n",
              "        }\n",
              "      </script>\n",
              "    </div>\n",
              "  </div>\n",
              "  "
            ]
          },
          "metadata": {},
          "execution_count": 11
        }
      ]
    },
    {
      "cell_type": "code",
      "source": [
        "review_json_path = '/content/yelp_academic_dataset_review.json'"
      ],
      "metadata": {
        "id": "9fXzGPKDNJvT"
      },
      "execution_count": null,
      "outputs": []
    },
    {
      "cell_type": "code",
      "source": [
        "size = 100000\n",
        "review = pd.read_json(review_json_path, lines=True,\n",
        "                      dtype={'review_id':str,'user_id':str,\n",
        "                             'business_id':str,'stars':int,\n",
        "                             'date':str,'text':str,'useful':int,\n",
        "                             'funny':int,'cool':int},\n",
        "                      chunksize=size)"
      ],
      "metadata": {
        "id": "bVuRrJyUO1AZ"
      },
      "execution_count": null,
      "outputs": []
    },
    {
      "cell_type": "code",
      "source": [
        "\"\"\"catDF = df_explode[df_explode['categories'].str.contains('Home Services',\n",
        "              case=False, na=False)]\n",
        "catDF.head(5)\"\"\""
      ],
      "metadata": {
        "colab": {
          "base_uri": "https://localhost:8080/",
          "height": 36
        },
        "id": "dfP3SglJT1j0",
        "outputId": "063cb938-3909-4e3e-d9c6-dde297d07445"
      },
      "execution_count": null,
      "outputs": [
        {
          "output_type": "execute_result",
          "data": {
            "text/plain": [
              "\"catDF = df_explode[df_explode['categories'].str.contains('Home Services',\\n              case=False, na=False)]\\ncatDF.head(5)\""
            ],
            "application/vnd.google.colaboratory.intrinsic+json": {
              "type": "string"
            }
          },
          "metadata": {},
          "execution_count": 14
        }
      ]
    },
    {
      "cell_type": "code",
      "source": [
        "cats = df_explode.categories.value_counts()[:10].index\n",
        "cats"
      ],
      "metadata": {
        "colab": {
          "base_uri": "https://localhost:8080/"
        },
        "id": "DKgLz8KqUPaP",
        "outputId": "1f36da45-9400-4971-ad1e-d4f370910507"
      },
      "execution_count": null,
      "outputs": [
        {
          "output_type": "execute_result",
          "data": {
            "text/plain": [
              "Index(['Restaurants', 'Food', 'Shopping', 'Home Services', 'Beauty & Spas',\n",
              "       'Health & Medical', 'Local Services', 'Automotive', 'Nightlife',\n",
              "       'Event Planning & Services'],\n",
              "      dtype='object')"
            ]
          },
          "metadata": {},
          "execution_count": 15
        }
      ]
    },
    {
      "cell_type": "code",
      "source": [
        "# There are multiple chunks to be read\n",
        "chunk_list = []\n",
        "for chunk_review in review:\n",
        "    # Drop columns that aren't needed\n",
        "    chunk_review = chunk_review.drop(['review_id','useful','funny','cool'], axis=1)\n",
        "    # Renaming column name to avoid conflict with business overall star rating\n",
        "    chunk_review = chunk_review.rename(columns={'stars': 'review_stars'})\n",
        "    # Inner merge with edited business file so only reviews related to the business remain\n",
        "    #chunk_merged = pd.merge(business_RV, chunk_review, on='business_id', how='inner')\n",
        "    for cat in cats:\n",
        "      catDF = df_explode[df_explode['categories'].str.contains(cat,\n",
        "              case=False, na=False)]\n",
        "      chunk_merged = pd.merge(catDF, chunk_review, on='business_id', how='inner')\n",
        "      # Show feedback on progress\n",
        "      #print(f\"{chunk_merged.shape[0]} out of {size:,} related reviews within the {cat} category\")\n",
        "      chunk_list.append(chunk_merged)\n",
        "      del catDF\n",
        "# After trimming down the review file, concatenate all relevant data back to one dataframe\n",
        "df = pd.concat(chunk_list, ignore_index=True, join='outer', axis=0)\n",
        "#chunk_list"
      ],
      "metadata": {
        "id": "qeohci2rO09A"
      },
      "execution_count": null,
      "outputs": []
    },
    {
      "cell_type": "code",
      "source": [
        "#if you don't want to include categories use this by uncommenting:\n",
        "\"\"\"\n",
        "# There are multiple chunks to be read\n",
        "chunk_list = []\n",
        "for chunk_review in review:\n",
        "    # Drop columns that aren't needed\n",
        "    chunk_review = chunk_review.drop(['review_id','useful','funny','cool'], axis=1)\n",
        "    # Renaming column name to avoid conflict with business overall star rating\n",
        "    chunk_review = chunk_review.rename(columns={'stars': 'review_stars'})\n",
        "    # Inner merge with edited business file so only reviews related to the business remain\n",
        "    #chunk_merged = pd.merge(business_RV, chunk_review, on='business_id', how='inner')\n",
        "    # Show feedback on progress\n",
        "    #print(f\"{chunk_merged.shape[0]} out of {size:,} related reviews\")\n",
        "    chunk_list.append(chunk_review)\n",
        "# After trimming down the review file, concatenate all relevant data back to one dataframe\n",
        "#df = pd.concat(chunk_list, ignore_index=True, join='outer', axis=0)\n",
        "#chunk_list\n",
        "\"\"\""
      ],
      "metadata": {
        "id": "_J1uUxKyVCeZ",
        "colab": {
          "base_uri": "https://localhost:8080/",
          "height": 126
        },
        "outputId": "ab5eeea9-97e0-425b-d55e-cee0b67e5b5b"
      },
      "execution_count": null,
      "outputs": [
        {
          "output_type": "execute_result",
          "data": {
            "text/plain": [
              "'\\n# There are multiple chunks to be read\\nchunk_list = []\\nfor chunk_review in review:\\n    # Drop columns that aren\\'t needed\\n    chunk_review = chunk_review.drop([\\'review_id\\',\\'useful\\',\\'funny\\',\\'cool\\'], axis=1)\\n    # Renaming column name to avoid conflict with business overall star rating\\n    chunk_review = chunk_review.rename(columns={\\'stars\\': \\'review_stars\\'})\\n    # Inner merge with edited business file so only reviews related to the business remain\\n    #chunk_merged = pd.merge(business_RV, chunk_review, on=\\'business_id\\', how=\\'inner\\')\\n    # Show feedback on progress\\n    #print(f\"{chunk_merged.shape[0]} out of {size:,} related reviews\")\\n    chunk_list.append(chunk_review)\\n# After trimming down the review file, concatenate all relevant data back to one dataframe\\n#df = pd.concat(chunk_list, ignore_index=True, join=\\'outer\\', axis=0)\\n#chunk_list\\n'"
            ],
            "application/vnd.google.colaboratory.intrinsic+json": {
              "type": "string"
            }
          },
          "metadata": {},
          "execution_count": 17
        }
      ]
    },
    {
      "cell_type": "code",
      "source": [
        "#df = pd.concat(chunk_list, ignore_index=True, join='outer', axis=0)"
      ],
      "metadata": {
        "id": "Wr8EDhnyO054"
      },
      "execution_count": null,
      "outputs": []
    },
    {
      "cell_type": "code",
      "source": [
        "df[225000:2250010]"
      ],
      "metadata": {
        "colab": {
          "base_uri": "https://localhost:8080/",
          "height": 1000
        },
        "id": "2PRRRFS3O03C",
        "outputId": "d8fe0d51-7739-42f7-ecce-3f367fa483df"
      },
      "execution_count": null,
      "outputs": [
        {
          "output_type": "execute_result",
          "data": {
            "text/plain": [
              "                    business_id                    name  \\\n",
              "225000   SNQ8sn7R9_e92GWKMCNSgg            O! Wing Plus   \n",
              "225001   rDO6cfeiC3X1FATlNJW-wA             The Fudgery   \n",
              "225002   rDO6cfeiC3X1FATlNJW-wA             The Fudgery   \n",
              "225003   rDO6cfeiC3X1FATlNJW-wA             The Fudgery   \n",
              "225004   rDO6cfeiC3X1FATlNJW-wA             The Fudgery   \n",
              "...                         ...                     ...   \n",
              "2250005  f8ss-XDpkdwwbQf0-V6JCA  Crawfish Asian Cuisine   \n",
              "2250006  f8ss-XDpkdwwbQf0-V6JCA  Crawfish Asian Cuisine   \n",
              "2250007  f8ss-XDpkdwwbQf0-V6JCA  Crawfish Asian Cuisine   \n",
              "2250008  f8ss-XDpkdwwbQf0-V6JCA  Crawfish Asian Cuisine   \n",
              "2250009  f8ss-XDpkdwwbQf0-V6JCA  Crawfish Asian Cuisine   \n",
              "\n",
              "                        address         city state postal_code   latitude  \\\n",
              "225000           10094 Page Ave  Saint Louis    MO       63132  38.690649   \n",
              "225001             1 Poydras St  New Orleans    LA       70112  29.949427   \n",
              "225002             1 Poydras St  New Orleans    LA       70112  29.949427   \n",
              "225003             1 Poydras St  New Orleans    LA       70112  29.949427   \n",
              "225004             1 Poydras St  New Orleans    LA       70112  29.949427   \n",
              "...                         ...          ...   ...         ...        ...   \n",
              "2250005  1296 E Plumb Ln, Ste H         Reno    NV       89502  39.505125   \n",
              "2250006  1296 E Plumb Ln, Ste H         Reno    NV       89502  39.505125   \n",
              "2250007  1296 E Plumb Ln, Ste H         Reno    NV       89502  39.505125   \n",
              "2250008  1296 E Plumb Ln, Ste H         Reno    NV       89502  39.505125   \n",
              "2250009  1296 E Plumb Ln, Ste H         Reno    NV       89502  39.505125   \n",
              "\n",
              "          longitude  stars                                         attributes  \\\n",
              "225000   -90.381956    4.5  {'RestaurantsAttire': 'u'casual'', 'GoodForKid...   \n",
              "225001   -90.062800    3.5  {'BusinessParking': '{'garage': True, 'street'...   \n",
              "225002   -90.062800    3.5  {'BusinessParking': '{'garage': True, 'street'...   \n",
              "225003   -90.062800    3.5  {'BusinessParking': '{'garage': True, 'street'...   \n",
              "225004   -90.062800    3.5  {'BusinessParking': '{'garage': True, 'street'...   \n",
              "...             ...    ...                                                ...   \n",
              "2250005 -119.782100    4.5  {'CoatCheck': 'False', 'Music': '{'dj': False}...   \n",
              "2250006 -119.782100    4.5  {'CoatCheck': 'False', 'Music': '{'dj': False}...   \n",
              "2250007 -119.782100    4.5  {'CoatCheck': 'False', 'Music': '{'dj': False}...   \n",
              "2250008 -119.782100    4.5  {'CoatCheck': 'False', 'Music': '{'dj': False}...   \n",
              "2250009 -119.782100    4.5  {'CoatCheck': 'False', 'Music': '{'dj': False}...   \n",
              "\n",
              "             categories                 user_id  review_stars  \\\n",
              "225000             Food  jMUP_N1YgmnobN09ZjGtsw             5   \n",
              "225001   Specialty Food  _BjiWHxDYvHfLW53Y4dDXQ             2   \n",
              "225002   Specialty Food  SY7Rx9l2uGyM5A6i0PecXQ             5   \n",
              "225003   Specialty Food  k49XnUNhwa_jRdhaG4uE6Q             5   \n",
              "225004   Specialty Food  -bSxAJOu11_jUjKo7pgK2Q             5   \n",
              "...                 ...                     ...           ...   \n",
              "2250005         Seafood  xBrulTE1C_Vv-IDt8S0_9A             5   \n",
              "2250006         Seafood  5BxhPxrC9ofGZkD1lncP0g             4   \n",
              "2250007         Seafood  WvMQRs_k2uIpwiNFj5WTsQ             5   \n",
              "2250008         Seafood  P8-IE6qDVEfpdc8B1FkoWg             5   \n",
              "2250009         Seafood  npscZ7nPooC48XkPcZWEiA             4   \n",
              "\n",
              "                                                      text  \\\n",
              "225000   They do have the best wings here.  Their secre...   \n",
              "225001   This place is bad in so many ways.\\n1. Employe...   \n",
              "225002   We had a great time there. They were very frie...   \n",
              "225003   Probably the best store inside the Riverwalk. ...   \n",
              "225004   This was BY FAR my favorite place on my NOLA t...   \n",
              "...                                                    ...   \n",
              "2250005  Delicious  crawfish excellent  service  and ni...   \n",
              "2250006  First time here and the food was delicious and...   \n",
              "2250007  I am a fan of local owned business and this pl...   \n",
              "2250008  In LOVE with this place! Eat Here often.\\nIts ...   \n",
              "2250009  Found this restaurant on Yelp while we were in...   \n",
              "\n",
              "                        date  \n",
              "225000   2017-07-25 03:14:32  \n",
              "225001   2015-11-25 22:51:48  \n",
              "225002   2015-07-10 13:38:27  \n",
              "225003   2011-09-06 20:58:21  \n",
              "225004   2016-08-12 04:07:42  \n",
              "...                      ...  \n",
              "2250005  2015-12-28 22:54:53  \n",
              "2250006  2014-12-23 04:50:58  \n",
              "2250007  2016-05-21 23:46:26  \n",
              "2250008  2016-09-22 20:21:21  \n",
              "2250009  2015-02-21 23:49:56  \n",
              "\n",
              "[2025010 rows x 15 columns]"
            ],
            "text/html": [
              "\n",
              "  <div id=\"df-cf422b9d-e90c-41bc-bdfa-1b877a2b4da6\">\n",
              "    <div class=\"colab-df-container\">\n",
              "      <div>\n",
              "<style scoped>\n",
              "    .dataframe tbody tr th:only-of-type {\n",
              "        vertical-align: middle;\n",
              "    }\n",
              "\n",
              "    .dataframe tbody tr th {\n",
              "        vertical-align: top;\n",
              "    }\n",
              "\n",
              "    .dataframe thead th {\n",
              "        text-align: right;\n",
              "    }\n",
              "</style>\n",
              "<table border=\"1\" class=\"dataframe\">\n",
              "  <thead>\n",
              "    <tr style=\"text-align: right;\">\n",
              "      <th></th>\n",
              "      <th>business_id</th>\n",
              "      <th>name</th>\n",
              "      <th>address</th>\n",
              "      <th>city</th>\n",
              "      <th>state</th>\n",
              "      <th>postal_code</th>\n",
              "      <th>latitude</th>\n",
              "      <th>longitude</th>\n",
              "      <th>stars</th>\n",
              "      <th>attributes</th>\n",
              "      <th>categories</th>\n",
              "      <th>user_id</th>\n",
              "      <th>review_stars</th>\n",
              "      <th>text</th>\n",
              "      <th>date</th>\n",
              "    </tr>\n",
              "  </thead>\n",
              "  <tbody>\n",
              "    <tr>\n",
              "      <th>225000</th>\n",
              "      <td>SNQ8sn7R9_e92GWKMCNSgg</td>\n",
              "      <td>O! Wing Plus</td>\n",
              "      <td>10094 Page Ave</td>\n",
              "      <td>Saint Louis</td>\n",
              "      <td>MO</td>\n",
              "      <td>63132</td>\n",
              "      <td>38.690649</td>\n",
              "      <td>-90.381956</td>\n",
              "      <td>4.5</td>\n",
              "      <td>{'RestaurantsAttire': 'u'casual'', 'GoodForKid...</td>\n",
              "      <td>Food</td>\n",
              "      <td>jMUP_N1YgmnobN09ZjGtsw</td>\n",
              "      <td>5</td>\n",
              "      <td>They do have the best wings here.  Their secre...</td>\n",
              "      <td>2017-07-25 03:14:32</td>\n",
              "    </tr>\n",
              "    <tr>\n",
              "      <th>225001</th>\n",
              "      <td>rDO6cfeiC3X1FATlNJW-wA</td>\n",
              "      <td>The Fudgery</td>\n",
              "      <td>1 Poydras St</td>\n",
              "      <td>New Orleans</td>\n",
              "      <td>LA</td>\n",
              "      <td>70112</td>\n",
              "      <td>29.949427</td>\n",
              "      <td>-90.062800</td>\n",
              "      <td>3.5</td>\n",
              "      <td>{'BusinessParking': '{'garage': True, 'street'...</td>\n",
              "      <td>Specialty Food</td>\n",
              "      <td>_BjiWHxDYvHfLW53Y4dDXQ</td>\n",
              "      <td>2</td>\n",
              "      <td>This place is bad in so many ways.\\n1. Employe...</td>\n",
              "      <td>2015-11-25 22:51:48</td>\n",
              "    </tr>\n",
              "    <tr>\n",
              "      <th>225002</th>\n",
              "      <td>rDO6cfeiC3X1FATlNJW-wA</td>\n",
              "      <td>The Fudgery</td>\n",
              "      <td>1 Poydras St</td>\n",
              "      <td>New Orleans</td>\n",
              "      <td>LA</td>\n",
              "      <td>70112</td>\n",
              "      <td>29.949427</td>\n",
              "      <td>-90.062800</td>\n",
              "      <td>3.5</td>\n",
              "      <td>{'BusinessParking': '{'garage': True, 'street'...</td>\n",
              "      <td>Specialty Food</td>\n",
              "      <td>SY7Rx9l2uGyM5A6i0PecXQ</td>\n",
              "      <td>5</td>\n",
              "      <td>We had a great time there. They were very frie...</td>\n",
              "      <td>2015-07-10 13:38:27</td>\n",
              "    </tr>\n",
              "    <tr>\n",
              "      <th>225003</th>\n",
              "      <td>rDO6cfeiC3X1FATlNJW-wA</td>\n",
              "      <td>The Fudgery</td>\n",
              "      <td>1 Poydras St</td>\n",
              "      <td>New Orleans</td>\n",
              "      <td>LA</td>\n",
              "      <td>70112</td>\n",
              "      <td>29.949427</td>\n",
              "      <td>-90.062800</td>\n",
              "      <td>3.5</td>\n",
              "      <td>{'BusinessParking': '{'garage': True, 'street'...</td>\n",
              "      <td>Specialty Food</td>\n",
              "      <td>k49XnUNhwa_jRdhaG4uE6Q</td>\n",
              "      <td>5</td>\n",
              "      <td>Probably the best store inside the Riverwalk. ...</td>\n",
              "      <td>2011-09-06 20:58:21</td>\n",
              "    </tr>\n",
              "    <tr>\n",
              "      <th>225004</th>\n",
              "      <td>rDO6cfeiC3X1FATlNJW-wA</td>\n",
              "      <td>The Fudgery</td>\n",
              "      <td>1 Poydras St</td>\n",
              "      <td>New Orleans</td>\n",
              "      <td>LA</td>\n",
              "      <td>70112</td>\n",
              "      <td>29.949427</td>\n",
              "      <td>-90.062800</td>\n",
              "      <td>3.5</td>\n",
              "      <td>{'BusinessParking': '{'garage': True, 'street'...</td>\n",
              "      <td>Specialty Food</td>\n",
              "      <td>-bSxAJOu11_jUjKo7pgK2Q</td>\n",
              "      <td>5</td>\n",
              "      <td>This was BY FAR my favorite place on my NOLA t...</td>\n",
              "      <td>2016-08-12 04:07:42</td>\n",
              "    </tr>\n",
              "    <tr>\n",
              "      <th>...</th>\n",
              "      <td>...</td>\n",
              "      <td>...</td>\n",
              "      <td>...</td>\n",
              "      <td>...</td>\n",
              "      <td>...</td>\n",
              "      <td>...</td>\n",
              "      <td>...</td>\n",
              "      <td>...</td>\n",
              "      <td>...</td>\n",
              "      <td>...</td>\n",
              "      <td>...</td>\n",
              "      <td>...</td>\n",
              "      <td>...</td>\n",
              "      <td>...</td>\n",
              "      <td>...</td>\n",
              "    </tr>\n",
              "    <tr>\n",
              "      <th>2250005</th>\n",
              "      <td>f8ss-XDpkdwwbQf0-V6JCA</td>\n",
              "      <td>Crawfish Asian Cuisine</td>\n",
              "      <td>1296 E Plumb Ln, Ste H</td>\n",
              "      <td>Reno</td>\n",
              "      <td>NV</td>\n",
              "      <td>89502</td>\n",
              "      <td>39.505125</td>\n",
              "      <td>-119.782100</td>\n",
              "      <td>4.5</td>\n",
              "      <td>{'CoatCheck': 'False', 'Music': '{'dj': False}...</td>\n",
              "      <td>Seafood</td>\n",
              "      <td>xBrulTE1C_Vv-IDt8S0_9A</td>\n",
              "      <td>5</td>\n",
              "      <td>Delicious  crawfish excellent  service  and ni...</td>\n",
              "      <td>2015-12-28 22:54:53</td>\n",
              "    </tr>\n",
              "    <tr>\n",
              "      <th>2250006</th>\n",
              "      <td>f8ss-XDpkdwwbQf0-V6JCA</td>\n",
              "      <td>Crawfish Asian Cuisine</td>\n",
              "      <td>1296 E Plumb Ln, Ste H</td>\n",
              "      <td>Reno</td>\n",
              "      <td>NV</td>\n",
              "      <td>89502</td>\n",
              "      <td>39.505125</td>\n",
              "      <td>-119.782100</td>\n",
              "      <td>4.5</td>\n",
              "      <td>{'CoatCheck': 'False', 'Music': '{'dj': False}...</td>\n",
              "      <td>Seafood</td>\n",
              "      <td>5BxhPxrC9ofGZkD1lncP0g</td>\n",
              "      <td>4</td>\n",
              "      <td>First time here and the food was delicious and...</td>\n",
              "      <td>2014-12-23 04:50:58</td>\n",
              "    </tr>\n",
              "    <tr>\n",
              "      <th>2250007</th>\n",
              "      <td>f8ss-XDpkdwwbQf0-V6JCA</td>\n",
              "      <td>Crawfish Asian Cuisine</td>\n",
              "      <td>1296 E Plumb Ln, Ste H</td>\n",
              "      <td>Reno</td>\n",
              "      <td>NV</td>\n",
              "      <td>89502</td>\n",
              "      <td>39.505125</td>\n",
              "      <td>-119.782100</td>\n",
              "      <td>4.5</td>\n",
              "      <td>{'CoatCheck': 'False', 'Music': '{'dj': False}...</td>\n",
              "      <td>Seafood</td>\n",
              "      <td>WvMQRs_k2uIpwiNFj5WTsQ</td>\n",
              "      <td>5</td>\n",
              "      <td>I am a fan of local owned business and this pl...</td>\n",
              "      <td>2016-05-21 23:46:26</td>\n",
              "    </tr>\n",
              "    <tr>\n",
              "      <th>2250008</th>\n",
              "      <td>f8ss-XDpkdwwbQf0-V6JCA</td>\n",
              "      <td>Crawfish Asian Cuisine</td>\n",
              "      <td>1296 E Plumb Ln, Ste H</td>\n",
              "      <td>Reno</td>\n",
              "      <td>NV</td>\n",
              "      <td>89502</td>\n",
              "      <td>39.505125</td>\n",
              "      <td>-119.782100</td>\n",
              "      <td>4.5</td>\n",
              "      <td>{'CoatCheck': 'False', 'Music': '{'dj': False}...</td>\n",
              "      <td>Seafood</td>\n",
              "      <td>P8-IE6qDVEfpdc8B1FkoWg</td>\n",
              "      <td>5</td>\n",
              "      <td>In LOVE with this place! Eat Here often.\\nIts ...</td>\n",
              "      <td>2016-09-22 20:21:21</td>\n",
              "    </tr>\n",
              "    <tr>\n",
              "      <th>2250009</th>\n",
              "      <td>f8ss-XDpkdwwbQf0-V6JCA</td>\n",
              "      <td>Crawfish Asian Cuisine</td>\n",
              "      <td>1296 E Plumb Ln, Ste H</td>\n",
              "      <td>Reno</td>\n",
              "      <td>NV</td>\n",
              "      <td>89502</td>\n",
              "      <td>39.505125</td>\n",
              "      <td>-119.782100</td>\n",
              "      <td>4.5</td>\n",
              "      <td>{'CoatCheck': 'False', 'Music': '{'dj': False}...</td>\n",
              "      <td>Seafood</td>\n",
              "      <td>npscZ7nPooC48XkPcZWEiA</td>\n",
              "      <td>4</td>\n",
              "      <td>Found this restaurant on Yelp while we were in...</td>\n",
              "      <td>2015-02-21 23:49:56</td>\n",
              "    </tr>\n",
              "  </tbody>\n",
              "</table>\n",
              "<p>2025010 rows × 15 columns</p>\n",
              "</div>\n",
              "      <button class=\"colab-df-convert\" onclick=\"convertToInteractive('df-cf422b9d-e90c-41bc-bdfa-1b877a2b4da6')\"\n",
              "              title=\"Convert this dataframe to an interactive table.\"\n",
              "              style=\"display:none;\">\n",
              "        \n",
              "  <svg xmlns=\"http://www.w3.org/2000/svg\" height=\"24px\"viewBox=\"0 0 24 24\"\n",
              "       width=\"24px\">\n",
              "    <path d=\"M0 0h24v24H0V0z\" fill=\"none\"/>\n",
              "    <path d=\"M18.56 5.44l.94 2.06.94-2.06 2.06-.94-2.06-.94-.94-2.06-.94 2.06-2.06.94zm-11 1L8.5 8.5l.94-2.06 2.06-.94-2.06-.94L8.5 2.5l-.94 2.06-2.06.94zm10 10l.94 2.06.94-2.06 2.06-.94-2.06-.94-.94-2.06-.94 2.06-2.06.94z\"/><path d=\"M17.41 7.96l-1.37-1.37c-.4-.4-.92-.59-1.43-.59-.52 0-1.04.2-1.43.59L10.3 9.45l-7.72 7.72c-.78.78-.78 2.05 0 2.83L4 21.41c.39.39.9.59 1.41.59.51 0 1.02-.2 1.41-.59l7.78-7.78 2.81-2.81c.8-.78.8-2.07 0-2.86zM5.41 20L4 18.59l7.72-7.72 1.47 1.35L5.41 20z\"/>\n",
              "  </svg>\n",
              "      </button>\n",
              "      \n",
              "  <style>\n",
              "    .colab-df-container {\n",
              "      display:flex;\n",
              "      flex-wrap:wrap;\n",
              "      gap: 12px;\n",
              "    }\n",
              "\n",
              "    .colab-df-convert {\n",
              "      background-color: #E8F0FE;\n",
              "      border: none;\n",
              "      border-radius: 50%;\n",
              "      cursor: pointer;\n",
              "      display: none;\n",
              "      fill: #1967D2;\n",
              "      height: 32px;\n",
              "      padding: 0 0 0 0;\n",
              "      width: 32px;\n",
              "    }\n",
              "\n",
              "    .colab-df-convert:hover {\n",
              "      background-color: #E2EBFA;\n",
              "      box-shadow: 0px 1px 2px rgba(60, 64, 67, 0.3), 0px 1px 3px 1px rgba(60, 64, 67, 0.15);\n",
              "      fill: #174EA6;\n",
              "    }\n",
              "\n",
              "    [theme=dark] .colab-df-convert {\n",
              "      background-color: #3B4455;\n",
              "      fill: #D2E3FC;\n",
              "    }\n",
              "\n",
              "    [theme=dark] .colab-df-convert:hover {\n",
              "      background-color: #434B5C;\n",
              "      box-shadow: 0px 1px 3px 1px rgba(0, 0, 0, 0.15);\n",
              "      filter: drop-shadow(0px 1px 2px rgba(0, 0, 0, 0.3));\n",
              "      fill: #FFFFFF;\n",
              "    }\n",
              "  </style>\n",
              "\n",
              "      <script>\n",
              "        const buttonEl =\n",
              "          document.querySelector('#df-cf422b9d-e90c-41bc-bdfa-1b877a2b4da6 button.colab-df-convert');\n",
              "        buttonEl.style.display =\n",
              "          google.colab.kernel.accessAllowed ? 'block' : 'none';\n",
              "\n",
              "        async function convertToInteractive(key) {\n",
              "          const element = document.querySelector('#df-cf422b9d-e90c-41bc-bdfa-1b877a2b4da6');\n",
              "          const dataTable =\n",
              "            await google.colab.kernel.invokeFunction('convertToInteractive',\n",
              "                                                     [key], {});\n",
              "          if (!dataTable) return;\n",
              "\n",
              "          const docLinkHtml = 'Like what you see? Visit the ' +\n",
              "            '<a target=\"_blank\" href=https://colab.research.google.com/notebooks/data_table.ipynb>data table notebook</a>'\n",
              "            + ' to learn more about interactive tables.';\n",
              "          element.innerHTML = '';\n",
              "          dataTable['output_type'] = 'display_data';\n",
              "          await google.colab.output.renderOutput(dataTable, element);\n",
              "          const docLink = document.createElement('div');\n",
              "          docLink.innerHTML = docLinkHtml;\n",
              "          element.appendChild(docLink);\n",
              "        }\n",
              "      </script>\n",
              "    </div>\n",
              "  </div>\n",
              "  "
            ]
          },
          "metadata": {},
          "execution_count": 18
        }
      ]
    },
    {
      "cell_type": "code",
      "source": [
        "df.text.value_counts()[:10000]"
      ],
      "metadata": {
        "colab": {
          "base_uri": "https://localhost:8080/"
        },
        "id": "KpIK8tVVrQAH",
        "outputId": "b38962f0-cc43-4d2f-d182-fc1d816e32d3"
      },
      "execution_count": null,
      "outputs": [
        {
          "output_type": "execute_result",
          "data": {
            "text/plain": [
              "A must-see in Philly! Lunch hour is craaaaaazy crowded, but that's part of the fun if you're up for it.                                                                                                                                                                                                                                                                                                                                                                                                                                                                                                                                                                                                            22\n",
              "I absolutely love this place. Always something delicious to try and new people to meet. \\n\\nGiving it a 4 mostly because it can be a little pricey.                                                                                                                                                                                                                                                                                                                                                                                                                                                                                                                                                                22\n",
              "Love Reading Terminal, to bad I no longer live down town, i would go several times a week.                                                                                                                                                                                                                                                                                                                                                                                                                                                                                                                                                                                                                         22\n",
              "This is my second visit to this great city and I can't believe I missed the Reading Terminal Market on my first visit. This is a must visit - right after the liberty bell.  OK - for get the bell come here first.  This place is crammed with food venders serving some of the best food ever. I stopped at Hershel's East Side for a pastrami Rubin  -  there must have been a pound of meat on this baby.  So good, I should have a stopped but I didn't.  Next stop will be Di Niks for the Italian pork sandwich.  I'll be back for that.  My wife said and I quote \"we should move here\".  Are you  kidding me, I'm a New Yorker by birth ... That would be sacrilege ... But I'll be back for the food.    22\n",
              "The only place I can get hard to find spices and a variety of coffee flavors ice cream hot donuts Bassett ice cream platter sandwiches and the list goes on my favorite place to shop                                                                                                                                                                                                                                                                                                                                                                                                                                                                                                                              22\n",
              "                                                                                                                                                                                                                                                                                                                                                                                                                                                                                                                                                                                                                                                                                                                   ..\n",
              "I wasn't wowed by the food. I liked the burrito with Colorado pork and relleno chile. I  would prefer some veggies on the burrito as they are not available. I like a little onion and cilantro on mine. They make their own flour tortillas which are great, but they don't make corn tortillas. A little pricey for what you get. Service was good, outside seating only, and they have beer.                                                                                                                                                                                                                                                                                                                     6\n",
              "Great place for seafood. The gumbo was fantastic. Bold shrimp with just the right amount of heat. The fried shrimp plate was so big. Most stop. Great mom and pop restaurant.                                                                                                                                                                                                                                                                                                                                                                                                                                                                                                                                       6\n",
              "Salvos is great for lots of foods. The plates are stacked with food. I had the fried shrimp and catfish platter with potato salad. I loved all of it!                                                                                                                                                                                                                                                                                                                                                                                                                                                                                                                                                               6\n",
              "Can never go wrong with this place.  Between the drink specials and great food it is a must.  The po-boys are enough for two.                                                                                                                                                                                                                                                                                                                                                                                                                                                                                                                                                                                       6\n",
              "came here to try seafood but to my surprise BBQ brisket was one of the specials. i cant pass up some brisket since saucys closed on magazine st. good smoke. excellent tender and moist. even the beans and potato salad was very good. because im picky and judgmental i have to say the corn on the cob was done perfect, thats hard to find. most places use frozen niblets and over cook it, this corn seemed fresh and was very juicy. there are some good chefs here and i will be back....soon!                                                                                                                                                                                                              6\n",
              "Name: text, Length: 10000, dtype: int64"
            ]
          },
          "metadata": {},
          "execution_count": 19
        }
      ]
    },
    {
      "cell_type": "markdown",
      "source": [
        "The above cell indicates that there are a lot of duplicates and we want to remove these duplicates to get the original count"
      ],
      "metadata": {
        "id": "7X17dJfrcS5n"
      }
    },
    {
      "cell_type": "code",
      "source": [
        "df.shape"
      ],
      "metadata": {
        "colab": {
          "base_uri": "https://localhost:8080/"
        },
        "id": "JWIpcnIVR6V9",
        "outputId": "a293b407-955e-4044-9fc5-b76d972bbe93"
      },
      "execution_count": null,
      "outputs": [
        {
          "output_type": "execute_result",
          "data": {
            "text/plain": [
              "(10014860, 15)"
            ]
          },
          "metadata": {},
          "execution_count": 20
        }
      ]
    },
    {
      "cell_type": "code",
      "source": [
        "df.drop_duplicates(subset='text', keep=\"first\", inplace=True)"
      ],
      "metadata": {
        "id": "bg5MpVqQtDoJ"
      },
      "execution_count": null,
      "outputs": []
    },
    {
      "cell_type": "code",
      "source": [
        "df.shape"
      ],
      "metadata": {
        "colab": {
          "base_uri": "https://localhost:8080/"
        },
        "id": "Pc8gmGGQxii9",
        "outputId": "b221bb4d-72da-4242-d4dd-70d6915776f3"
      },
      "execution_count": null,
      "outputs": [
        {
          "output_type": "execute_result",
          "data": {
            "text/plain": [
              "(5505531, 15)"
            ]
          },
          "metadata": {},
          "execution_count": 24
        }
      ]
    },
    {
      "cell_type": "code",
      "source": [
        "print(df.categories.value_counts()[:10])"
      ],
      "metadata": {
        "colab": {
          "base_uri": "https://localhost:8080/"
        },
        "id": "D10iHPVzxr4M",
        "outputId": "3fd1f138-85e3-4dcc-ba79-459dc3900e88"
      },
      "execution_count": null,
      "outputs": [
        {
          "output_type": "stream",
          "name": "stdout",
          "text": [
            "Restaurants                  3763618\n",
            "Shopping                      338700\n",
            "Food                          299556\n",
            "Beauty & Spas                 282527\n",
            "Automotive                    184986\n",
            "Home Services                 166452\n",
            "Event Planning & Services     154301\n",
            "Health & Medical              104587\n",
            "Nightlife                     100999\n",
            "Local Services                 72424\n",
            "Name: categories, dtype: int64\n"
          ]
        }
      ]
    },
    {
      "cell_type": "code",
      "source": [
        "df.head()"
      ],
      "metadata": {
        "colab": {
          "base_uri": "https://localhost:8080/",
          "height": 565
        },
        "id": "bBllAn6NdM2Z",
        "outputId": "d32f6922-0ab0-44e6-c905-f1f5a2cdffad"
      },
      "execution_count": null,
      "outputs": [
        {
          "output_type": "execute_result",
          "data": {
            "text/plain": [
              "              business_id                name      address          city  \\\n",
              "0  MTSW4McQd7CbVtyjqoe9mw  St Honore Pastries  935 Race St  Philadelphia   \n",
              "1  MTSW4McQd7CbVtyjqoe9mw  St Honore Pastries  935 Race St  Philadelphia   \n",
              "2  MTSW4McQd7CbVtyjqoe9mw  St Honore Pastries  935 Race St  Philadelphia   \n",
              "3  MTSW4McQd7CbVtyjqoe9mw  St Honore Pastries  935 Race St  Philadelphia   \n",
              "4  MTSW4McQd7CbVtyjqoe9mw  St Honore Pastries  935 Race St  Philadelphia   \n",
              "\n",
              "  state postal_code   latitude  longitude  stars  \\\n",
              "0    PA       19107  39.955505 -75.155564    4.0   \n",
              "1    PA       19107  39.955505 -75.155564    4.0   \n",
              "2    PA       19107  39.955505 -75.155564    4.0   \n",
              "3    PA       19107  39.955505 -75.155564    4.0   \n",
              "4    PA       19107  39.955505 -75.155564    4.0   \n",
              "\n",
              "                                          attributes   categories  \\\n",
              "0  {'RestaurantsDelivery': 'False', 'OutdoorSeati...  Restaurants   \n",
              "1  {'RestaurantsDelivery': 'False', 'OutdoorSeati...  Restaurants   \n",
              "2  {'RestaurantsDelivery': 'False', 'OutdoorSeati...  Restaurants   \n",
              "3  {'RestaurantsDelivery': 'False', 'OutdoorSeati...  Restaurants   \n",
              "4  {'RestaurantsDelivery': 'False', 'OutdoorSeati...  Restaurants   \n",
              "\n",
              "                  user_id  review_stars  \\\n",
              "0  6_SpY41LIHZuIaiDs5FMKA             4   \n",
              "1  tCXElwhzekJEH6QJe3xs7Q             4   \n",
              "2  WqfKtI-aGMmvbA9pPUxNQQ             5   \n",
              "3  3-1va0IQfK-9tUMzfHWfTA             5   \n",
              "4  EouCKoDfzaVG0klEgdDvCQ             4   \n",
              "\n",
              "                                                text                 date  \n",
              "0  This is nice little Chinese bakery in the hear...  2014-05-26 01:09:53  \n",
              "1  This is the bakery I usually go to in Chinatow...  2013-10-05 15:19:06  \n",
              "2  A delightful find in Chinatown! Very clean, an...  2013-10-25 01:34:57  \n",
              "3  I ordered a graduation cake for my niece and i...  2018-05-20 17:58:57  \n",
              "4  HK-STYLE MILK TEA:  FOUR STARS\\n\\nNot quite su...  2013-10-25 02:31:35  "
            ],
            "text/html": [
              "\n",
              "  <div id=\"df-0bf1ce4d-bc37-41b4-924e-a69d4579559e\">\n",
              "    <div class=\"colab-df-container\">\n",
              "      <div>\n",
              "<style scoped>\n",
              "    .dataframe tbody tr th:only-of-type {\n",
              "        vertical-align: middle;\n",
              "    }\n",
              "\n",
              "    .dataframe tbody tr th {\n",
              "        vertical-align: top;\n",
              "    }\n",
              "\n",
              "    .dataframe thead th {\n",
              "        text-align: right;\n",
              "    }\n",
              "</style>\n",
              "<table border=\"1\" class=\"dataframe\">\n",
              "  <thead>\n",
              "    <tr style=\"text-align: right;\">\n",
              "      <th></th>\n",
              "      <th>business_id</th>\n",
              "      <th>name</th>\n",
              "      <th>address</th>\n",
              "      <th>city</th>\n",
              "      <th>state</th>\n",
              "      <th>postal_code</th>\n",
              "      <th>latitude</th>\n",
              "      <th>longitude</th>\n",
              "      <th>stars</th>\n",
              "      <th>attributes</th>\n",
              "      <th>categories</th>\n",
              "      <th>user_id</th>\n",
              "      <th>review_stars</th>\n",
              "      <th>text</th>\n",
              "      <th>date</th>\n",
              "    </tr>\n",
              "  </thead>\n",
              "  <tbody>\n",
              "    <tr>\n",
              "      <th>0</th>\n",
              "      <td>MTSW4McQd7CbVtyjqoe9mw</td>\n",
              "      <td>St Honore Pastries</td>\n",
              "      <td>935 Race St</td>\n",
              "      <td>Philadelphia</td>\n",
              "      <td>PA</td>\n",
              "      <td>19107</td>\n",
              "      <td>39.955505</td>\n",
              "      <td>-75.155564</td>\n",
              "      <td>4.0</td>\n",
              "      <td>{'RestaurantsDelivery': 'False', 'OutdoorSeati...</td>\n",
              "      <td>Restaurants</td>\n",
              "      <td>6_SpY41LIHZuIaiDs5FMKA</td>\n",
              "      <td>4</td>\n",
              "      <td>This is nice little Chinese bakery in the hear...</td>\n",
              "      <td>2014-05-26 01:09:53</td>\n",
              "    </tr>\n",
              "    <tr>\n",
              "      <th>1</th>\n",
              "      <td>MTSW4McQd7CbVtyjqoe9mw</td>\n",
              "      <td>St Honore Pastries</td>\n",
              "      <td>935 Race St</td>\n",
              "      <td>Philadelphia</td>\n",
              "      <td>PA</td>\n",
              "      <td>19107</td>\n",
              "      <td>39.955505</td>\n",
              "      <td>-75.155564</td>\n",
              "      <td>4.0</td>\n",
              "      <td>{'RestaurantsDelivery': 'False', 'OutdoorSeati...</td>\n",
              "      <td>Restaurants</td>\n",
              "      <td>tCXElwhzekJEH6QJe3xs7Q</td>\n",
              "      <td>4</td>\n",
              "      <td>This is the bakery I usually go to in Chinatow...</td>\n",
              "      <td>2013-10-05 15:19:06</td>\n",
              "    </tr>\n",
              "    <tr>\n",
              "      <th>2</th>\n",
              "      <td>MTSW4McQd7CbVtyjqoe9mw</td>\n",
              "      <td>St Honore Pastries</td>\n",
              "      <td>935 Race St</td>\n",
              "      <td>Philadelphia</td>\n",
              "      <td>PA</td>\n",
              "      <td>19107</td>\n",
              "      <td>39.955505</td>\n",
              "      <td>-75.155564</td>\n",
              "      <td>4.0</td>\n",
              "      <td>{'RestaurantsDelivery': 'False', 'OutdoorSeati...</td>\n",
              "      <td>Restaurants</td>\n",
              "      <td>WqfKtI-aGMmvbA9pPUxNQQ</td>\n",
              "      <td>5</td>\n",
              "      <td>A delightful find in Chinatown! Very clean, an...</td>\n",
              "      <td>2013-10-25 01:34:57</td>\n",
              "    </tr>\n",
              "    <tr>\n",
              "      <th>3</th>\n",
              "      <td>MTSW4McQd7CbVtyjqoe9mw</td>\n",
              "      <td>St Honore Pastries</td>\n",
              "      <td>935 Race St</td>\n",
              "      <td>Philadelphia</td>\n",
              "      <td>PA</td>\n",
              "      <td>19107</td>\n",
              "      <td>39.955505</td>\n",
              "      <td>-75.155564</td>\n",
              "      <td>4.0</td>\n",
              "      <td>{'RestaurantsDelivery': 'False', 'OutdoorSeati...</td>\n",
              "      <td>Restaurants</td>\n",
              "      <td>3-1va0IQfK-9tUMzfHWfTA</td>\n",
              "      <td>5</td>\n",
              "      <td>I ordered a graduation cake for my niece and i...</td>\n",
              "      <td>2018-05-20 17:58:57</td>\n",
              "    </tr>\n",
              "    <tr>\n",
              "      <th>4</th>\n",
              "      <td>MTSW4McQd7CbVtyjqoe9mw</td>\n",
              "      <td>St Honore Pastries</td>\n",
              "      <td>935 Race St</td>\n",
              "      <td>Philadelphia</td>\n",
              "      <td>PA</td>\n",
              "      <td>19107</td>\n",
              "      <td>39.955505</td>\n",
              "      <td>-75.155564</td>\n",
              "      <td>4.0</td>\n",
              "      <td>{'RestaurantsDelivery': 'False', 'OutdoorSeati...</td>\n",
              "      <td>Restaurants</td>\n",
              "      <td>EouCKoDfzaVG0klEgdDvCQ</td>\n",
              "      <td>4</td>\n",
              "      <td>HK-STYLE MILK TEA:  FOUR STARS\\n\\nNot quite su...</td>\n",
              "      <td>2013-10-25 02:31:35</td>\n",
              "    </tr>\n",
              "  </tbody>\n",
              "</table>\n",
              "</div>\n",
              "      <button class=\"colab-df-convert\" onclick=\"convertToInteractive('df-0bf1ce4d-bc37-41b4-924e-a69d4579559e')\"\n",
              "              title=\"Convert this dataframe to an interactive table.\"\n",
              "              style=\"display:none;\">\n",
              "        \n",
              "  <svg xmlns=\"http://www.w3.org/2000/svg\" height=\"24px\"viewBox=\"0 0 24 24\"\n",
              "       width=\"24px\">\n",
              "    <path d=\"M0 0h24v24H0V0z\" fill=\"none\"/>\n",
              "    <path d=\"M18.56 5.44l.94 2.06.94-2.06 2.06-.94-2.06-.94-.94-2.06-.94 2.06-2.06.94zm-11 1L8.5 8.5l.94-2.06 2.06-.94-2.06-.94L8.5 2.5l-.94 2.06-2.06.94zm10 10l.94 2.06.94-2.06 2.06-.94-2.06-.94-.94-2.06-.94 2.06-2.06.94z\"/><path d=\"M17.41 7.96l-1.37-1.37c-.4-.4-.92-.59-1.43-.59-.52 0-1.04.2-1.43.59L10.3 9.45l-7.72 7.72c-.78.78-.78 2.05 0 2.83L4 21.41c.39.39.9.59 1.41.59.51 0 1.02-.2 1.41-.59l7.78-7.78 2.81-2.81c.8-.78.8-2.07 0-2.86zM5.41 20L4 18.59l7.72-7.72 1.47 1.35L5.41 20z\"/>\n",
              "  </svg>\n",
              "      </button>\n",
              "      \n",
              "  <style>\n",
              "    .colab-df-container {\n",
              "      display:flex;\n",
              "      flex-wrap:wrap;\n",
              "      gap: 12px;\n",
              "    }\n",
              "\n",
              "    .colab-df-convert {\n",
              "      background-color: #E8F0FE;\n",
              "      border: none;\n",
              "      border-radius: 50%;\n",
              "      cursor: pointer;\n",
              "      display: none;\n",
              "      fill: #1967D2;\n",
              "      height: 32px;\n",
              "      padding: 0 0 0 0;\n",
              "      width: 32px;\n",
              "    }\n",
              "\n",
              "    .colab-df-convert:hover {\n",
              "      background-color: #E2EBFA;\n",
              "      box-shadow: 0px 1px 2px rgba(60, 64, 67, 0.3), 0px 1px 3px 1px rgba(60, 64, 67, 0.15);\n",
              "      fill: #174EA6;\n",
              "    }\n",
              "\n",
              "    [theme=dark] .colab-df-convert {\n",
              "      background-color: #3B4455;\n",
              "      fill: #D2E3FC;\n",
              "    }\n",
              "\n",
              "    [theme=dark] .colab-df-convert:hover {\n",
              "      background-color: #434B5C;\n",
              "      box-shadow: 0px 1px 3px 1px rgba(0, 0, 0, 0.15);\n",
              "      filter: drop-shadow(0px 1px 2px rgba(0, 0, 0, 0.3));\n",
              "      fill: #FFFFFF;\n",
              "    }\n",
              "  </style>\n",
              "\n",
              "      <script>\n",
              "        const buttonEl =\n",
              "          document.querySelector('#df-0bf1ce4d-bc37-41b4-924e-a69d4579559e button.colab-df-convert');\n",
              "        buttonEl.style.display =\n",
              "          google.colab.kernel.accessAllowed ? 'block' : 'none';\n",
              "\n",
              "        async function convertToInteractive(key) {\n",
              "          const element = document.querySelector('#df-0bf1ce4d-bc37-41b4-924e-a69d4579559e');\n",
              "          const dataTable =\n",
              "            await google.colab.kernel.invokeFunction('convertToInteractive',\n",
              "                                                     [key], {});\n",
              "          if (!dataTable) return;\n",
              "\n",
              "          const docLinkHtml = 'Like what you see? Visit the ' +\n",
              "            '<a target=\"_blank\" href=https://colab.research.google.com/notebooks/data_table.ipynb>data table notebook</a>'\n",
              "            + ' to learn more about interactive tables.';\n",
              "          element.innerHTML = '';\n",
              "          dataTable['output_type'] = 'display_data';\n",
              "          await google.colab.output.renderOutput(dataTable, element);\n",
              "          const docLink = document.createElement('div');\n",
              "          docLink.innerHTML = docLinkHtml;\n",
              "          element.appendChild(docLink);\n",
              "        }\n",
              "      </script>\n",
              "    </div>\n",
              "  </div>\n",
              "  "
            ]
          },
          "metadata": {},
          "execution_count": 23
        }
      ]
    },
    {
      "cell_type": "markdown",
      "source": [
        "Let's create a new column that will account for the length of each review"
      ],
      "metadata": {
        "id": "szD3Xdq-dw97"
      }
    },
    {
      "cell_type": "code",
      "source": [
        "df['reviewLength'] = df['text'].str.count(' ') + 1"
      ],
      "metadata": {
        "id": "TXbq_0RldQM7"
      },
      "execution_count": null,
      "outputs": []
    },
    {
      "cell_type": "code",
      "source": [
        "df.head(2)"
      ],
      "metadata": {
        "colab": {
          "base_uri": "https://localhost:8080/",
          "height": 315
        },
        "id": "WM_M9QBJdkrP",
        "outputId": "1544c0dd-1260-4c38-d4bc-f8a1a0c5f458"
      },
      "execution_count": null,
      "outputs": [
        {
          "output_type": "execute_result",
          "data": {
            "text/plain": [
              "              business_id                name      address          city  \\\n",
              "0  MTSW4McQd7CbVtyjqoe9mw  St Honore Pastries  935 Race St  Philadelphia   \n",
              "1  MTSW4McQd7CbVtyjqoe9mw  St Honore Pastries  935 Race St  Philadelphia   \n",
              "\n",
              "  state postal_code   latitude  longitude  stars  \\\n",
              "0    PA       19107  39.955505 -75.155564    4.0   \n",
              "1    PA       19107  39.955505 -75.155564    4.0   \n",
              "\n",
              "                                          attributes   categories  \\\n",
              "0  {'RestaurantsDelivery': 'False', 'OutdoorSeati...  Restaurants   \n",
              "1  {'RestaurantsDelivery': 'False', 'OutdoorSeati...  Restaurants   \n",
              "\n",
              "                  user_id  review_stars  \\\n",
              "0  6_SpY41LIHZuIaiDs5FMKA             4   \n",
              "1  tCXElwhzekJEH6QJe3xs7Q             4   \n",
              "\n",
              "                                                text                 date  \\\n",
              "0  This is nice little Chinese bakery in the hear...  2014-05-26 01:09:53   \n",
              "1  This is the bakery I usually go to in Chinatow...  2013-10-05 15:19:06   \n",
              "\n",
              "   reviewLength  \n",
              "0            70  \n",
              "1           116  "
            ],
            "text/html": [
              "\n",
              "  <div id=\"df-1b3bd7fc-c29d-4161-94d3-3c233dded310\">\n",
              "    <div class=\"colab-df-container\">\n",
              "      <div>\n",
              "<style scoped>\n",
              "    .dataframe tbody tr th:only-of-type {\n",
              "        vertical-align: middle;\n",
              "    }\n",
              "\n",
              "    .dataframe tbody tr th {\n",
              "        vertical-align: top;\n",
              "    }\n",
              "\n",
              "    .dataframe thead th {\n",
              "        text-align: right;\n",
              "    }\n",
              "</style>\n",
              "<table border=\"1\" class=\"dataframe\">\n",
              "  <thead>\n",
              "    <tr style=\"text-align: right;\">\n",
              "      <th></th>\n",
              "      <th>business_id</th>\n",
              "      <th>name</th>\n",
              "      <th>address</th>\n",
              "      <th>city</th>\n",
              "      <th>state</th>\n",
              "      <th>postal_code</th>\n",
              "      <th>latitude</th>\n",
              "      <th>longitude</th>\n",
              "      <th>stars</th>\n",
              "      <th>attributes</th>\n",
              "      <th>categories</th>\n",
              "      <th>user_id</th>\n",
              "      <th>review_stars</th>\n",
              "      <th>text</th>\n",
              "      <th>date</th>\n",
              "      <th>reviewLength</th>\n",
              "    </tr>\n",
              "  </thead>\n",
              "  <tbody>\n",
              "    <tr>\n",
              "      <th>0</th>\n",
              "      <td>MTSW4McQd7CbVtyjqoe9mw</td>\n",
              "      <td>St Honore Pastries</td>\n",
              "      <td>935 Race St</td>\n",
              "      <td>Philadelphia</td>\n",
              "      <td>PA</td>\n",
              "      <td>19107</td>\n",
              "      <td>39.955505</td>\n",
              "      <td>-75.155564</td>\n",
              "      <td>4.0</td>\n",
              "      <td>{'RestaurantsDelivery': 'False', 'OutdoorSeati...</td>\n",
              "      <td>Restaurants</td>\n",
              "      <td>6_SpY41LIHZuIaiDs5FMKA</td>\n",
              "      <td>4</td>\n",
              "      <td>This is nice little Chinese bakery in the hear...</td>\n",
              "      <td>2014-05-26 01:09:53</td>\n",
              "      <td>70</td>\n",
              "    </tr>\n",
              "    <tr>\n",
              "      <th>1</th>\n",
              "      <td>MTSW4McQd7CbVtyjqoe9mw</td>\n",
              "      <td>St Honore Pastries</td>\n",
              "      <td>935 Race St</td>\n",
              "      <td>Philadelphia</td>\n",
              "      <td>PA</td>\n",
              "      <td>19107</td>\n",
              "      <td>39.955505</td>\n",
              "      <td>-75.155564</td>\n",
              "      <td>4.0</td>\n",
              "      <td>{'RestaurantsDelivery': 'False', 'OutdoorSeati...</td>\n",
              "      <td>Restaurants</td>\n",
              "      <td>tCXElwhzekJEH6QJe3xs7Q</td>\n",
              "      <td>4</td>\n",
              "      <td>This is the bakery I usually go to in Chinatow...</td>\n",
              "      <td>2013-10-05 15:19:06</td>\n",
              "      <td>116</td>\n",
              "    </tr>\n",
              "  </tbody>\n",
              "</table>\n",
              "</div>\n",
              "      <button class=\"colab-df-convert\" onclick=\"convertToInteractive('df-1b3bd7fc-c29d-4161-94d3-3c233dded310')\"\n",
              "              title=\"Convert this dataframe to an interactive table.\"\n",
              "              style=\"display:none;\">\n",
              "        \n",
              "  <svg xmlns=\"http://www.w3.org/2000/svg\" height=\"24px\"viewBox=\"0 0 24 24\"\n",
              "       width=\"24px\">\n",
              "    <path d=\"M0 0h24v24H0V0z\" fill=\"none\"/>\n",
              "    <path d=\"M18.56 5.44l.94 2.06.94-2.06 2.06-.94-2.06-.94-.94-2.06-.94 2.06-2.06.94zm-11 1L8.5 8.5l.94-2.06 2.06-.94-2.06-.94L8.5 2.5l-.94 2.06-2.06.94zm10 10l.94 2.06.94-2.06 2.06-.94-2.06-.94-.94-2.06-.94 2.06-2.06.94z\"/><path d=\"M17.41 7.96l-1.37-1.37c-.4-.4-.92-.59-1.43-.59-.52 0-1.04.2-1.43.59L10.3 9.45l-7.72 7.72c-.78.78-.78 2.05 0 2.83L4 21.41c.39.39.9.59 1.41.59.51 0 1.02-.2 1.41-.59l7.78-7.78 2.81-2.81c.8-.78.8-2.07 0-2.86zM5.41 20L4 18.59l7.72-7.72 1.47 1.35L5.41 20z\"/>\n",
              "  </svg>\n",
              "      </button>\n",
              "      \n",
              "  <style>\n",
              "    .colab-df-container {\n",
              "      display:flex;\n",
              "      flex-wrap:wrap;\n",
              "      gap: 12px;\n",
              "    }\n",
              "\n",
              "    .colab-df-convert {\n",
              "      background-color: #E8F0FE;\n",
              "      border: none;\n",
              "      border-radius: 50%;\n",
              "      cursor: pointer;\n",
              "      display: none;\n",
              "      fill: #1967D2;\n",
              "      height: 32px;\n",
              "      padding: 0 0 0 0;\n",
              "      width: 32px;\n",
              "    }\n",
              "\n",
              "    .colab-df-convert:hover {\n",
              "      background-color: #E2EBFA;\n",
              "      box-shadow: 0px 1px 2px rgba(60, 64, 67, 0.3), 0px 1px 3px 1px rgba(60, 64, 67, 0.15);\n",
              "      fill: #174EA6;\n",
              "    }\n",
              "\n",
              "    [theme=dark] .colab-df-convert {\n",
              "      background-color: #3B4455;\n",
              "      fill: #D2E3FC;\n",
              "    }\n",
              "\n",
              "    [theme=dark] .colab-df-convert:hover {\n",
              "      background-color: #434B5C;\n",
              "      box-shadow: 0px 1px 3px 1px rgba(0, 0, 0, 0.15);\n",
              "      filter: drop-shadow(0px 1px 2px rgba(0, 0, 0, 0.3));\n",
              "      fill: #FFFFFF;\n",
              "    }\n",
              "  </style>\n",
              "\n",
              "      <script>\n",
              "        const buttonEl =\n",
              "          document.querySelector('#df-1b3bd7fc-c29d-4161-94d3-3c233dded310 button.colab-df-convert');\n",
              "        buttonEl.style.display =\n",
              "          google.colab.kernel.accessAllowed ? 'block' : 'none';\n",
              "\n",
              "        async function convertToInteractive(key) {\n",
              "          const element = document.querySelector('#df-1b3bd7fc-c29d-4161-94d3-3c233dded310');\n",
              "          const dataTable =\n",
              "            await google.colab.kernel.invokeFunction('convertToInteractive',\n",
              "                                                     [key], {});\n",
              "          if (!dataTable) return;\n",
              "\n",
              "          const docLinkHtml = 'Like what you see? Visit the ' +\n",
              "            '<a target=\"_blank\" href=https://colab.research.google.com/notebooks/data_table.ipynb>data table notebook</a>'\n",
              "            + ' to learn more about interactive tables.';\n",
              "          element.innerHTML = '';\n",
              "          dataTable['output_type'] = 'display_data';\n",
              "          await google.colab.output.renderOutput(dataTable, element);\n",
              "          const docLink = document.createElement('div');\n",
              "          docLink.innerHTML = docLinkHtml;\n",
              "          element.appendChild(docLink);\n",
              "        }\n",
              "      </script>\n",
              "    </div>\n",
              "  </div>\n",
              "  "
            ]
          },
          "metadata": {},
          "execution_count": 28
        }
      ]
    },
    {
      "cell_type": "code",
      "source": [
        "pd.plotting.register_matplotlib_converters()\n",
        "import matplotlib.pyplot as plt\n",
        "%matplotlib inline\n",
        "import seaborn as sns\n",
        "print(\"Setup Complete\")"
      ],
      "metadata": {
        "colab": {
          "base_uri": "https://localhost:8080/"
        },
        "id": "XfVGonHYdurc",
        "outputId": "40457709-9853-4e1b-c317-5fffd342ad1e"
      },
      "execution_count": null,
      "outputs": [
        {
          "output_type": "stream",
          "name": "stdout",
          "text": [
            "Setup Complete\n"
          ]
        }
      ]
    },
    {
      "cell_type": "code",
      "source": [
        "df.categories.value_counts()[:10]"
      ],
      "metadata": {
        "colab": {
          "base_uri": "https://localhost:8080/"
        },
        "id": "jko29L1ve4CH",
        "outputId": "6dc0609d-a53d-4e8b-f8ae-d6df5f41a291"
      },
      "execution_count": null,
      "outputs": [
        {
          "output_type": "execute_result",
          "data": {
            "text/plain": [
              "Restaurants                  3763618\n",
              "Shopping                      338700\n",
              "Food                          299556\n",
              "Beauty & Spas                 282527\n",
              "Automotive                    184986\n",
              "Home Services                 166452\n",
              "Event Planning & Services     154301\n",
              "Health & Medical              104587\n",
              "Nightlife                     100999\n",
              "Local Services                 72424\n",
              "Name: categories, dtype: int64"
            ]
          },
          "metadata": {},
          "execution_count": 34
        }
      ]
    },
    {
      "cell_type": "code",
      "source": [
        "sns.countplot(data=df, y=\"categories\", )\n",
        "plt.title(\"Review counts by categories\")\n",
        "# plt.yticks(rotation=45)"
      ],
      "metadata": {
        "colab": {
          "base_uri": "https://localhost:8080/",
          "height": 313
        },
        "id": "u5EtUP-od9aA",
        "outputId": "d73577cb-eeb4-4b12-8107-d5d08a057c13"
      },
      "execution_count": null,
      "outputs": [
        {
          "output_type": "execute_result",
          "data": {
            "text/plain": [
              "Text(0.5, 1.0, 'Review counts by categories')"
            ]
          },
          "metadata": {},
          "execution_count": 31
        },
        {
          "output_type": "display_data",
          "data": {
            "text/plain": [
              "<Figure size 432x288 with 1 Axes>"
            ],
            "image/png": "[encoded data removed]"
          },
          "metadata": {
            "needs_background": "light"
          }
        }
      ]
    },
    {
      "cell_type": "code",
      "source": [
        "sns.distplot(a=df[\"reviewLength\"], kde=False)\n",
        "plt.title(\"Reviews sentence length distribution\")\n",
        "plt.xlabel(\"Sentence Length\")\n",
        "plt.ylabel(\"Number of Reviews\")"
      ],
      "metadata": {
        "colab": {
          "base_uri": "https://localhost:8080/",
          "height": 369
        },
        "id": "ElVH6j9jeDsA",
        "outputId": "59b98534-176f-4941-d32f-e30aec1d0fe0"
      },
      "execution_count": null,
      "outputs": [
        {
          "output_type": "stream",
          "name": "stderr",
          "text": [
            "/usr/local/lib/python3.7/dist-packages/seaborn/distributions.py:2619: FutureWarning: `distplot` is a deprecated function and will be removed in a future version. Please adapt your code to use either `displot` (a figure-level function with similar flexibility) or `histplot` (an axes-level function for histograms).\n",
            "  warnings.warn(msg, FutureWarning)\n"
          ]
        },
        {
          "output_type": "execute_result",
          "data": {
            "text/plain": [
              "Text(0, 0.5, 'Number of Reviews')"
            ]
          },
          "metadata": {},
          "execution_count": 32
        },
        {
          "output_type": "display_data",
          "data": {
            "text/plain": [
              "<Figure size 432x288 with 1 Axes>"
            ],
            "image/png": "[encoded data removed]"
          },
          "metadata": {
            "needs_background": "light"
          }
        }
      ]
    },
    {
      "cell_type": "code",
      "source": [
        "sns.countplot(x=df[\"stars\"])\n",
        "plt.title(\"Count of reviews by review ratings\")\n",
        "plt.xlabel(\"Rating\")\n",
        "plt.ylabel(\"Number of Reviews\")"
      ],
      "metadata": {
        "colab": {
          "base_uri": "https://localhost:8080/",
          "height": 313
        },
        "id": "XWONmLjqeZon",
        "outputId": "86f458d0-e7be-4ee7-db7a-3fad6636f800"
      },
      "execution_count": null,
      "outputs": [
        {
          "output_type": "execute_result",
          "data": {
            "text/plain": [
              "Text(0, 0.5, 'Number of Reviews')"
            ]
          },
          "metadata": {},
          "execution_count": 17
        },
        {
          "output_type": "display_data",
          "data": {
            "text/plain": [
              "<Figure size 432x288 with 1 Axes>"
            ],
            "image/png": "[encoded data removed]"
          },
          "metadata": {
            "needs_background": "light"
          }
        }
      ]
    },
    {
      "cell_type": "code",
      "source": [
        "sns.scatterplot(x=df['reviewLength'], y=df['stars'])\n",
        "plt.title(\"Ratings v/s Sentence Length\")"
      ],
      "metadata": {
        "colab": {
          "base_uri": "https://localhost:8080/",
          "height": 313
        },
        "id": "Ctczo43rek1c",
        "outputId": "95926d6b-015e-4966-c3ca-6b46825a370f"
      },
      "execution_count": null,
      "outputs": [
        {
          "output_type": "execute_result",
          "data": {
            "text/plain": [
              "Text(0.5, 1.0, 'Ratings v/s Sentence Length')"
            ]
          },
          "metadata": {},
          "execution_count": 36
        },
        {
          "output_type": "display_data",
          "data": {
            "text/plain": [
              "<Figure size 432x288 with 1 Axes>"
            ],
            "image/png": "[encoded data removed]"
          },
          "metadata": {
            "needs_background": "light"
          }
        }
      ]
    },
    {
      "cell_type": "code",
      "source": [
        "gt350 = df[df[\"reviewLength\"]>350]\n",
        "gt350.shape"
      ],
      "metadata": {
        "colab": {
          "base_uri": "https://localhost:8080/"
        },
        "id": "n4kfILPVfRHE",
        "outputId": "4f3c996a-d0b7-41f3-bf64-ce2e19f2a8ae"
      },
      "execution_count": null,
      "outputs": [
        {
          "output_type": "execute_result",
          "data": {
            "text/plain": [
              "(154336, 16)"
            ]
          },
          "metadata": {},
          "execution_count": 39
        }
      ]
    },
    {
      "cell_type": "code",
      "source": [
        "lt350 = df[df[\"reviewLength\"]<350]\n",
        "lt350.shape"
      ],
      "metadata": {
        "colab": {
          "base_uri": "https://localhost:8080/"
        },
        "id": "d5Q-s-bThGnD",
        "outputId": "ee384346-c906-425b-f74b-10e8dc9a92a5"
      },
      "execution_count": null,
      "outputs": [
        {
          "output_type": "execute_result",
          "data": {
            "text/plain": [
              "(5349859, 16)"
            ]
          },
          "metadata": {},
          "execution_count": 40
        }
      ]
    },
    {
      "cell_type": "markdown",
      "source": [
        "There are more datapoints for reviews with length less than 350, than there are for reviews of length greater than 350"
      ],
      "metadata": {
        "id": "KL6WcJRUhPmP"
      }
    },
    {
      "cell_type": "code",
      "source": [],
      "metadata": {
        "id": "ME-FQ1ishI1_"
      },
      "execution_count": null,
      "outputs": []
    },
    {
      "cell_type": "markdown",
      "source": [
        "#Save Dataframe objects in the Drive"
      ],
      "metadata": {
        "id": "kvuFwtgwk2fy"
      }
    },
    {
      "cell_type": "code",
      "source": [
        "df_auto = df[df['categories']=='Automotive']\n",
        "df_auto.head(2)"
      ],
      "metadata": {
        "colab": {
          "base_uri": "https://localhost:8080/",
          "height": 402
        },
        "id": "d5QLUnT_k6l-",
        "outputId": "d90d6d2e-ba65-4056-fbfd-c39d30b94883"
      },
      "execution_count": null,
      "outputs": [
        {
          "output_type": "execute_result",
          "data": {
            "text/plain": [
              "                   business_id                      name          address  \\\n",
              "106213  rBmpy_Y1UbBx8ggHlyb7hA  Arizona Truck Outfitters  625 N Stone Ave   \n",
              "106224  nUqrF-h9S7myCcvNDecOvw      Iron Horse Auto Body   825 Cacique St   \n",
              "\n",
              "                 city state postal_code   latitude   longitude  stars  \\\n",
              "106213         Tucson    AZ       85705  32.229872 -110.972342    4.5   \n",
              "106224  Santa Barbara    CA       93103  34.419620 -119.677032    4.5   \n",
              "\n",
              "                                               attributes  categories  \\\n",
              "106213  {'DriveThru': 'False', 'BusinessAcceptsCreditC...  Automotive   \n",
              "106224  {'BusinessAcceptsCreditCards': 'True', 'WiFi':...  Automotive   \n",
              "\n",
              "                       user_id  review_stars  \\\n",
              "106213  Grp5mXrdfv49MpoXoraIdg             5   \n",
              "106224  IHDYJHlKPlLpVw3jokGezA             5   \n",
              "\n",
              "                                                     text                 date  \n",
              "106213  I went in to get shocks for my shell and not o...  2018-02-03 21:57:47  \n",
              "106224  The absolute best service and results I've had...  2015-11-06 00:55:31  "
            ],
            "text/html": [
              "\n",
              "  <div id=\"df-469ebc80-544e-4772-86e4-229b263d2e1b\">\n",
              "    <div class=\"colab-df-container\">\n",
              "      <div>\n",
              "<style scoped>\n",
              "    .dataframe tbody tr th:only-of-type {\n",
              "        vertical-align: middle;\n",
              "    }\n",
              "\n",
              "    .dataframe tbody tr th {\n",
              "        vertical-align: top;\n",
              "    }\n",
              "\n",
              "    .dataframe thead th {\n",
              "        text-align: right;\n",
              "    }\n",
              "</style>\n",
              "<table border=\"1\" class=\"dataframe\">\n",
              "  <thead>\n",
              "    <tr style=\"text-align: right;\">\n",
              "      <th></th>\n",
              "      <th>business_id</th>\n",
              "      <th>name</th>\n",
              "      <th>address</th>\n",
              "      <th>city</th>\n",
              "      <th>state</th>\n",
              "      <th>postal_code</th>\n",
              "      <th>latitude</th>\n",
              "      <th>longitude</th>\n",
              "      <th>stars</th>\n",
              "      <th>attributes</th>\n",
              "      <th>categories</th>\n",
              "      <th>user_id</th>\n",
              "      <th>review_stars</th>\n",
              "      <th>text</th>\n",
              "      <th>date</th>\n",
              "    </tr>\n",
              "  </thead>\n",
              "  <tbody>\n",
              "    <tr>\n",
              "      <th>106213</th>\n",
              "      <td>rBmpy_Y1UbBx8ggHlyb7hA</td>\n",
              "      <td>Arizona Truck Outfitters</td>\n",
              "      <td>625 N Stone Ave</td>\n",
              "      <td>Tucson</td>\n",
              "      <td>AZ</td>\n",
              "      <td>85705</td>\n",
              "      <td>32.229872</td>\n",
              "      <td>-110.972342</td>\n",
              "      <td>4.5</td>\n",
              "      <td>{'DriveThru': 'False', 'BusinessAcceptsCreditC...</td>\n",
              "      <td>Automotive</td>\n",
              "      <td>Grp5mXrdfv49MpoXoraIdg</td>\n",
              "      <td>5</td>\n",
              "      <td>I went in to get shocks for my shell and not o...</td>\n",
              "      <td>2018-02-03 21:57:47</td>\n",
              "    </tr>\n",
              "    <tr>\n",
              "      <th>106224</th>\n",
              "      <td>nUqrF-h9S7myCcvNDecOvw</td>\n",
              "      <td>Iron Horse Auto Body</td>\n",
              "      <td>825 Cacique St</td>\n",
              "      <td>Santa Barbara</td>\n",
              "      <td>CA</td>\n",
              "      <td>93103</td>\n",
              "      <td>34.419620</td>\n",
              "      <td>-119.677032</td>\n",
              "      <td>4.5</td>\n",
              "      <td>{'BusinessAcceptsCreditCards': 'True', 'WiFi':...</td>\n",
              "      <td>Automotive</td>\n",
              "      <td>IHDYJHlKPlLpVw3jokGezA</td>\n",
              "      <td>5</td>\n",
              "      <td>The absolute best service and results I've had...</td>\n",
              "      <td>2015-11-06 00:55:31</td>\n",
              "    </tr>\n",
              "  </tbody>\n",
              "</table>\n",
              "</div>\n",
              "      <button class=\"colab-df-convert\" onclick=\"convertToInteractive('df-469ebc80-544e-4772-86e4-229b263d2e1b')\"\n",
              "              title=\"Convert this dataframe to an interactive table.\"\n",
              "              style=\"display:none;\">\n",
              "        \n",
              "  <svg xmlns=\"http://www.w3.org/2000/svg\" height=\"24px\"viewBox=\"0 0 24 24\"\n",
              "       width=\"24px\">\n",
              "    <path d=\"M0 0h24v24H0V0z\" fill=\"none\"/>\n",
              "    <path d=\"M18.56 5.44l.94 2.06.94-2.06 2.06-.94-2.06-.94-.94-2.06-.94 2.06-2.06.94zm-11 1L8.5 8.5l.94-2.06 2.06-.94-2.06-.94L8.5 2.5l-.94 2.06-2.06.94zm10 10l.94 2.06.94-2.06 2.06-.94-2.06-.94-.94-2.06-.94 2.06-2.06.94z\"/><path d=\"M17.41 7.96l-1.37-1.37c-.4-.4-.92-.59-1.43-.59-.52 0-1.04.2-1.43.59L10.3 9.45l-7.72 7.72c-.78.78-.78 2.05 0 2.83L4 21.41c.39.39.9.59 1.41.59.51 0 1.02-.2 1.41-.59l7.78-7.78 2.81-2.81c.8-.78.8-2.07 0-2.86zM5.41 20L4 18.59l7.72-7.72 1.47 1.35L5.41 20z\"/>\n",
              "  </svg>\n",
              "      </button>\n",
              "      \n",
              "  <style>\n",
              "    .colab-df-container {\n",
              "      display:flex;\n",
              "      flex-wrap:wrap;\n",
              "      gap: 12px;\n",
              "    }\n",
              "\n",
              "    .colab-df-convert {\n",
              "      background-color: #E8F0FE;\n",
              "      border: none;\n",
              "      border-radius: 50%;\n",
              "      cursor: pointer;\n",
              "      display: none;\n",
              "      fill: #1967D2;\n",
              "      height: 32px;\n",
              "      padding: 0 0 0 0;\n",
              "      width: 32px;\n",
              "    }\n",
              "\n",
              "    .colab-df-convert:hover {\n",
              "      background-color: #E2EBFA;\n",
              "      box-shadow: 0px 1px 2px rgba(60, 64, 67, 0.3), 0px 1px 3px 1px rgba(60, 64, 67, 0.15);\n",
              "      fill: #174EA6;\n",
              "    }\n",
              "\n",
              "    [theme=dark] .colab-df-convert {\n",
              "      background-color: #3B4455;\n",
              "      fill: #D2E3FC;\n",
              "    }\n",
              "\n",
              "    [theme=dark] .colab-df-convert:hover {\n",
              "      background-color: #434B5C;\n",
              "      box-shadow: 0px 1px 3px 1px rgba(0, 0, 0, 0.15);\n",
              "      filter: drop-shadow(0px 1px 2px rgba(0, 0, 0, 0.3));\n",
              "      fill: #FFFFFF;\n",
              "    }\n",
              "  </style>\n",
              "\n",
              "      <script>\n",
              "        const buttonEl =\n",
              "          document.querySelector('#df-469ebc80-544e-4772-86e4-229b263d2e1b button.colab-df-convert');\n",
              "        buttonEl.style.display =\n",
              "          google.colab.kernel.accessAllowed ? 'block' : 'none';\n",
              "\n",
              "        async function convertToInteractive(key) {\n",
              "          const element = document.querySelector('#df-469ebc80-544e-4772-86e4-229b263d2e1b');\n",
              "          const dataTable =\n",
              "            await google.colab.kernel.invokeFunction('convertToInteractive',\n",
              "                                                     [key], {});\n",
              "          if (!dataTable) return;\n",
              "\n",
              "          const docLinkHtml = 'Like what you see? Visit the ' +\n",
              "            '<a target=\"_blank\" href=https://colab.research.google.com/notebooks/data_table.ipynb>data table notebook</a>'\n",
              "            + ' to learn more about interactive tables.';\n",
              "          element.innerHTML = '';\n",
              "          dataTable['output_type'] = 'display_data';\n",
              "          await google.colab.output.renderOutput(dataTable, element);\n",
              "          const docLink = document.createElement('div');\n",
              "          docLink.innerHTML = docLinkHtml;\n",
              "          element.appendChild(docLink);\n",
              "        }\n",
              "      </script>\n",
              "    </div>\n",
              "  </div>\n",
              "  "
            ]
          },
          "metadata": {},
          "execution_count": 41
        }
      ]
    },
    {
      "cell_type": "code",
      "source": [
        "df_auto.shape"
      ],
      "metadata": {
        "colab": {
          "base_uri": "https://localhost:8080/"
        },
        "id": "P817vLebZ2h2",
        "outputId": "020150d9-4f78-480a-f4af-ea83a324b8a7"
      },
      "execution_count": null,
      "outputs": [
        {
          "output_type": "execute_result",
          "data": {
            "text/plain": [
              "(184986, 15)"
            ]
          },
          "metadata": {},
          "execution_count": 42
        }
      ]
    },
    {
      "cell_type": "code",
      "source": [
        "df_auto.to_pickle('AutoDF.pkl')"
      ],
      "metadata": {
        "id": "Zh7uPunIlAzv"
      },
      "execution_count": null,
      "outputs": []
    },
    {
      "cell_type": "code",
      "source": [
        "#send to drive\n",
        "#%mkdir /content/drive/MyDrive/YelpDataset/dataframes"
      ],
      "metadata": {
        "id": "97wF8qAyltHl"
      },
      "execution_count": null,
      "outputs": []
    },
    {
      "cell_type": "code",
      "source": [
        "%cp /content/AutoDF.pkl /content/drive/MyDrive/YelpDataset/dataframes/"
      ],
      "metadata": {
        "id": "sNZqlayzn3FB"
      },
      "execution_count": null,
      "outputs": []
    },
    {
      "cell_type": "code",
      "source": [
        "catNoSpace = []\n",
        "for cat in df.categories.value_counts()[5:10].index:\n",
        "  temp = cat\n",
        "  temp = temp.replace(\" \",\"\")\n",
        "  catNoSpace.append(temp)\n",
        "catNoSpace"
      ],
      "metadata": {
        "colab": {
          "base_uri": "https://localhost:8080/"
        },
        "id": "R1aEXvMdaT_R",
        "outputId": "3bf7dbe9-4338-43cb-d42a-6ed9b2d0077e"
      },
      "execution_count": null,
      "outputs": [
        {
          "output_type": "execute_result",
          "data": {
            "text/plain": [
              "['HomeServices',\n",
              " 'EventPlanning&Services',\n",
              " 'Health&Medical',\n",
              " 'Nightlife',\n",
              " 'LocalServices']"
            ]
          },
          "metadata": {},
          "execution_count": 49
        }
      ]
    },
    {
      "cell_type": "code",
      "source": [
        "i = 0\n",
        "for cat in df.categories.value_counts()[5:10].index:\n",
        "  dfToSave = df[df['categories']==cat]\n",
        "  dfToSave.to_pickle(f'{catNoSpace[i]}DF.pkl')\n",
        "  i+=1"
      ],
      "metadata": {
        "id": "0_KLLzNVoFda"
      },
      "execution_count": null,
      "outputs": []
    },
    {
      "cell_type": "code",
      "source": [
        "!ls"
      ],
      "metadata": {
        "colab": {
          "base_uri": "https://localhost:8080/"
        },
        "id": "5T1g_USrbLo4",
        "outputId": "2a7aaaf9-18a7-44c8-c21b-b9654d8a5daa"
      },
      "execution_count": null,
      "outputs": [
        {
          "output_type": "stream",
          "name": "stdout",
          "text": [
            " AutoDF.pkl\t\t\t LocalServicesDF.pkl\n",
            " beautyandSpaDF.pkl\t\t NightlifeDF.pkl\n",
            " drive\t\t\t\t sample_data\n",
            "'EventPlanning&ServicesDF.pkl'\t shoppingDF.pkl\n",
            " foodDF.pkl\t\t\t yelp_academic_dataset_business.json\n",
            "'Health&MedicalDF.pkl'\t\t yelp_academic_dataset_review.json\n",
            " HomeServicesDF.pkl\n"
          ]
        }
      ]
    },
    {
      "cell_type": "code",
      "source": [
        "%cp /content/EventPlanningServicesDF.pkl /content/drive/MyDrive/YelpDataset/dataframes/\n",
        "%cp /content/HealthMedicalDF.pkl /content/drive/MyDrive/YelpDataset/dataframes/\n",
        "#%cp /content/HomeServicesDF.pkl /content/drive/MyDrive/YelpDataset/dataframes/\n",
        "#%cp /content/LocalServicesDF.pkl /content/drive/MyDrive/YelpDataset/dataframes/\n",
        "#%cp /content/NightlifeDF.pkl /content/drive/MyDrive/YelpDataset/dataframes/"
      ],
      "metadata": {
        "id": "KuogpeZZcisp"
      },
      "execution_count": null,
      "outputs": []
    },
    {
      "cell_type": "code",
      "source": [],
      "metadata": {
        "id": "jMQFrA9ndPc1"
      },
      "execution_count": null,
      "outputs": []
    }
  ]
}